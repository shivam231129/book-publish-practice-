{
  "nbformat": 4,
  "nbformat_minor": 0,
  "metadata": {
    "kernelspec": {
      "display_name": "Python 3",
      "language": "python",
      "name": "python3"
    },
    "language_info": {
      "codemirror_mode": {
        "name": "ipython",
        "version": 3
      },
      "file_extension": ".py",
      "mimetype": "text/x-python",
      "name": "python",
      "nbconvert_exporter": "python",
      "pygments_lexer": "ipython3",
      "version": "3.8.5"
    },
    "colab": {
      "name": "1.ipynb",
      "provenance": [],
      "include_colab_link": true
    }
  },
  "cells": [
    {
      "cell_type": "markdown",
      "metadata": {
        "id": "view-in-github",
        "colab_type": "text"
      },
      "source": [
        "<a href=\"https://colab.research.google.com/github/shivam231129/book-publish-practice-/blob/main/1.ipynb\" target=\"_parent\"><img src=\"https://colab.research.google.com/assets/colab-badge.svg\" alt=\"Open In Colab\"/></a>"
      ]
    },
    {
      "cell_type": "code",
      "metadata": {
        "id": "_qQj7zcTQzyF"
      },
      "source": [
        "%matplotlib inline\n",
        "import warnings\n",
        "warnings.filterwarnings(\"ignore\")\n",
        "\n",
        "import sqlite3\n",
        "import pandas as pd\n",
        "import numpy as np\n",
        "import nltk\n",
        "import string\n",
        "import matplotlib.pyplot as plt\n",
        "import seaborn as sns\n",
        "from sklearn.feature_extraction.text import TfidfTransformer\n",
        "from sklearn.feature_extraction.text import TfidfVectorizer\n",
        "\n",
        "from sklearn.feature_extraction.text import CountVectorizer\n",
        "from sklearn.metrics import confusion_matrix\n",
        "from sklearn import metrics\n",
        "from sklearn.metrics import roc_curve, auc\n",
        "from nltk.stem.porter import PorterStemmer\n",
        "from sklearn.preprocessing import LabelEncoder\n",
        "import re\n",
        "# Tutorial about Python regular expressions: https://pymotw.com/2/re/\n",
        "import string\n",
        "from nltk.corpus import stopwords\n",
        "from nltk.stem import PorterStemmer\n",
        "from nltk.stem.wordnet import WordNetLemmatizer\n",
        "\n",
        "\n",
        "import pickle\n",
        "\n",
        "from tqdm import tqdm\n",
        "import os\n",
        "\n",
        "\n",
        "\n",
        "from collections import Counter\n",
        "from keras.utils import to_categorical\n",
        "\n",
        "from tensorflow.keras.callbacks import TensorBoard\n",
        "\n",
        "import matplotlib.pyplot as plt\n",
        "from sklearn.neighbors import KNeighborsClassifier\n",
        "from sklearn.metrics import roc_auc_score\n",
        "from scipy.sparse import hstack\n",
        "from numpy import zeros\n",
        "from keras.preprocessing.text import Tokenizer\n",
        "from keras.preprocessing.sequence import pad_sequences\n",
        "from keras.models import Sequential\n",
        "from keras.layers import Input\n",
        "from keras.layers import Flatten\n",
        "from keras.layers import Embedding\n",
        "from keras.layers import LSTM,Bidirectional\n",
        "from keras.layers.core import Dense, Dropout\n",
        "from keras.models import Model, load_model\n",
        "from keras.layers.normalization import BatchNormalization\n",
        "from keras.callbacks import ReduceLROnPlateau"
      ],
      "execution_count": null,
      "outputs": []
    },
    {
      "cell_type": "code",
      "metadata": {
        "id": "EDyKcp9QQzyQ"
      },
      "source": [
        "result=pd.read_csv(\"final1.csv\")"
      ],
      "execution_count": null,
      "outputs": []
    },
    {
      "cell_type": "code",
      "metadata": {
        "id": "Y-58iEQ0QzyR"
      },
      "source": [
        "name=[]\n",
        "for x,y,w,h ,f,j in zip(result['x'],result['y'],result['w'],result['h'],result['frame_id'],range(0,1088)):\n",
        "# Python program to explain cv2.rectangle() method\n",
        "# print(f)\n",
        "\n",
        "# importing cv2\n",
        "# path\n",
        "    path =  str(int(f))+\".png\"\n",
        "    name.append(path)\n",
        "    \n",
        "    "
      ],
      "execution_count": null,
      "outputs": []
    },
    {
      "cell_type": "code",
      "metadata": {
        "id": "HweIUgi4QzyS",
        "outputId": "a1629cb1-940f-4815-8ab8-184ac2f30ae4"
      },
      "source": [
        "len(name)"
      ],
      "execution_count": null,
      "outputs": [
        {
          "output_type": "execute_result",
          "data": {
            "text/plain": [
              "1087"
            ]
          },
          "metadata": {
            "tags": []
          },
          "execution_count": 4
        }
      ]
    },
    {
      "cell_type": "code",
      "metadata": {
        "id": "vQpskHdoQzyT"
      },
      "source": [
        "result['name']=name"
      ],
      "execution_count": null,
      "outputs": []
    },
    {
      "cell_type": "code",
      "metadata": {
        "id": "r3cXchiSQzyU",
        "outputId": "39cc4573-b39e-4bd6-f636-556840cd8e31"
      },
      "source": [
        "type(result['name'][0])"
      ],
      "execution_count": null,
      "outputs": [
        {
          "output_type": "execute_result",
          "data": {
            "text/plain": [
              "str"
            ]
          },
          "metadata": {
            "tags": []
          },
          "execution_count": 6
        }
      ]
    },
    {
      "cell_type": "code",
      "metadata": {
        "id": "iSLNwcKhQzyV"
      },
      "source": [
        "from sklearn.model_selection import train_test_split\n",
        "Y=result['distance']\n",
        "\n",
        "X_train, X_cv, y_train, y_cv = train_test_split(result, Y, test_size=0.050,random_state=0)"
      ],
      "execution_count": null,
      "outputs": []
    },
    {
      "cell_type": "code",
      "metadata": {
        "id": "GQHIxyCYQzyV",
        "outputId": "302cd53d-6e48-40ae-fd30-80339b13b8e8"
      },
      "source": [
        "X_train.shape"
      ],
      "execution_count": null,
      "outputs": [
        {
          "output_type": "execute_result",
          "data": {
            "text/plain": [
              "(1032, 13)"
            ]
          },
          "metadata": {
            "tags": []
          },
          "execution_count": 8
        }
      ]
    },
    {
      "cell_type": "code",
      "metadata": {
        "id": "FFp8kfYSQzyW",
        "outputId": "d07c1150-bd18-4a13-f9f4-dd12a15a3d08"
      },
      "source": [
        "from keras_preprocessing.image import ImageDataGenerator\n",
        "\n",
        "datagen=ImageDataGenerator(rescale=1./255.,validation_split=0.10)\n",
        "\n",
        "\n",
        "train_generator=datagen.flow_from_dataframe(\n",
        "dataframe=X_train,\n",
        "directory=\"image/\",\n",
        "x_col=\"name\",\n",
        "y_col=\"distance\",\n",
        "subset=\"training\",\n",
        "batch_size=32,\n",
        "seed=42,\n",
        "shuffle=True,\n",
        "class_mode=\"raw\",\n",
        ")"
      ],
      "execution_count": null,
      "outputs": [
        {
          "output_type": "stream",
          "text": [
            "Found 929 validated image filenames.\n"
          ],
          "name": "stdout"
        }
      ]
    },
    {
      "cell_type": "code",
      "metadata": {
        "id": "TV0plR_JQzyW",
        "outputId": "cf5854b3-e2bd-4ee7-8147-e10d34c237ab"
      },
      "source": [
        "test_datagen=ImageDataGenerator(rescale=1./255.)\n",
        "\n",
        "test_generator=test_datagen.flow_from_dataframe(\n",
        "dataframe=X_cv,\n",
        "directory=\"image/\",\n",
        "x_col=\"name\",\n",
        "y_col=None,\n",
        "batch_size=32,\n",
        "seed=42,\n",
        "shuffle=False,\n",
        "class_mode=None,\n",
        ")"
      ],
      "execution_count": null,
      "outputs": [
        {
          "output_type": "stream",
          "text": [
            "Found 55 validated image filenames.\n"
          ],
          "name": "stdout"
        }
      ]
    },
    {
      "cell_type": "code",
      "metadata": {
        "id": "o5_lophnQzyX"
      },
      "source": [
        ""
      ],
      "execution_count": null,
      "outputs": []
    },
    {
      "cell_type": "code",
      "metadata": {
        "id": "7GSiOQQsQzyX",
        "outputId": "a036849a-dbe8-48b4-df2c-9ca3ce044523"
      },
      "source": [
        "path"
      ],
      "execution_count": null,
      "outputs": [
        {
          "output_type": "execute_result",
          "data": {
            "text/plain": [
              "'394.png'"
            ]
          },
          "metadata": {
            "tags": []
          },
          "execution_count": 11
        }
      ]
    },
    {
      "cell_type": "code",
      "metadata": {
        "id": "4557PmeeQzyY",
        "outputId": "f8920b6f-af8b-46ba-a390-5e2c351fe1b7"
      },
      "source": [
        ""
      ],
      "execution_count": null,
      "outputs": [
        {
          "output_type": "error",
          "ename": "NameError",
          "evalue": "name 'cv2' is not defined",
          "traceback": [
            "\u001b[1;31m---------------------------------------------------------------------------\u001b[0m",
            "\u001b[1;31mNameError\u001b[0m                                 Traceback (most recent call last)",
            "\u001b[1;32m<ipython-input-12-41f60b78a960>\u001b[0m in \u001b[0;36m<module>\u001b[1;34m\u001b[0m\n\u001b[1;32m----> 1\u001b[1;33m \u001b[0mimage\u001b[0m \u001b[1;33m=\u001b[0m \u001b[0mcv2\u001b[0m\u001b[1;33m.\u001b[0m\u001b[0mimread\u001b[0m\u001b[1;33m(\u001b[0m\u001b[0mpath\u001b[0m\u001b[1;33m)\u001b[0m\u001b[1;33m\u001b[0m\u001b[1;33m\u001b[0m\u001b[0m\n\u001b[0m\u001b[0;32m      2\u001b[0m \u001b[0mprint\u001b[0m\u001b[1;33m(\u001b[0m\u001b[0mimage\u001b[0m\u001b[1;33m.\u001b[0m\u001b[0mshape\u001b[0m\u001b[1;33m)\u001b[0m\u001b[1;33m\u001b[0m\u001b[1;33m\u001b[0m\u001b[0m\n",
            "\u001b[1;31mNameError\u001b[0m: name 'cv2' is not defined"
          ]
        }
      ]
    },
    {
      "cell_type": "code",
      "metadata": {
        "id": "t8KNEGUkQzyY"
      },
      "source": [
        "r=[]\n",
        "g=[]\n",
        "b=[]\n",
        "import  cv2\n",
        "imagefeatures = np.zeros((X_train.shape[0], 972),dtype=int)\n",
        "for x,y,w,h ,f,j in zip(X_train['x'],X_train['y'],X_train['w'],X_train['h'],X_train['frame_id'],range(0,1088)):\n",
        "# Python program to explain cv2.rectangle() method\n",
        "# print(f)\n",
        "\n",
        "# importing cv2\n",
        "# path\n",
        "    path = \"png_depth/\"+ str(int(f))+\"_depth.png\"\n",
        "\n",
        "    # Reading an image in default mode\n",
        "    image = cv2.imread(path)\n",
        "    # print(image.shape)\n",
        "    bigger = cv2.resize(image, (64 , 128))\n",
        "    # Blue color in BGR\n",
        "    # color = (255, 0, 0)\n",
        "    # Line thickness of 2 px\n",
        "    thickness = 2\n",
        "    # Using cv2.rectangle() method\n",
        "    # Draw a rectangle with blue line borders of thickness of 2 px\n",
        "    # image = cv2.rectangle(image, start_point, end_point, color, thickness)\n",
        "    # Displayin# Window name in which image is displayed\n",
        "    # window_name = 'Image'\n",
        "    # Start coordinate, here (5, 5)\n",
        "    # represents the top left corner of rectangle\n",
        "    start_point = (int(x),int(y))\n",
        "    # Ending coordinate, here (220, 220)\n",
        "    # represents the bottom right corner of rectangle\n",
        "    end_point = (int(x+w), int(y+h))\n",
        "\n",
        "    cropped_img=image[int(y): int(y)+int(h), int(x): int(x)+int(w)]\n",
        "    new= cv2.resize(cropped_img, (18 , 18),interpolation = cv2.INTER_NEAREST)\n",
        "    img_arr =  new.flatten()\n",
        "    \n",
        "    imagefeatures[j]=+img_arr\n",
        "    #a=np.mean(cropped_img,axis=(0,1))\n",
        "    #r.append(a[0])\n",
        "    #g.append(a[1])\n",
        "    #b.append(a[2])"
      ],
      "execution_count": null,
      "outputs": []
    },
    {
      "cell_type": "code",
      "metadata": {
        "id": "_XfLLTR2QzyZ"
      },
      "source": [
        ""
      ],
      "execution_count": null,
      "outputs": []
    },
    {
      "cell_type": "code",
      "metadata": {
        "id": "WslAcXqjQzya"
      },
      "source": [
        "img_features_name = []\n",
        "for i in range(972):\n",
        "    img_features_name.append('pix' + str(i))"
      ],
      "execution_count": null,
      "outputs": []
    },
    {
      "cell_type": "code",
      "metadata": {
        "id": "SzeJJBS0Qzya"
      },
      "source": [
        "a=list(set(result['class_id']))\n",
        "b=[27,27,77,27,77,30,10.8,10.8,53,53,53,27,27]\n",
        "df = pd.DataFrame() \n",
        "df['class_id']=a\n",
        "df['height']=b\n",
        "X_train=pd.merge(X_train, df, how=\"inner\", on=\"class_id\")\n"
      ],
      "execution_count": null,
      "outputs": []
    },
    {
      "cell_type": "code",
      "metadata": {
        "id": "usDMNyK6Qzya",
        "outputId": "da31141d-d38e-45b4-b305-14d72a01f72d"
      },
      "source": [
        "X_train"
      ],
      "execution_count": null,
      "outputs": [
        {
          "output_type": "execute_result",
          "data": {
            "text/html": [
              "<div>\n",
              "<style scoped>\n",
              "    .dataframe tbody tr th:only-of-type {\n",
              "        vertical-align: middle;\n",
              "    }\n",
              "\n",
              "    .dataframe tbody tr th {\n",
              "        vertical-align: top;\n",
              "    }\n",
              "\n",
              "    .dataframe thead th {\n",
              "        text-align: right;\n",
              "    }\n",
              "</style>\n",
              "<table border=\"1\" class=\"dataframe\">\n",
              "  <thead>\n",
              "    <tr style=\"text-align: right;\">\n",
              "      <th></th>\n",
              "      <th>Unnamed: 0</th>\n",
              "      <th>x</th>\n",
              "      <th>y</th>\n",
              "      <th>w</th>\n",
              "      <th>h</th>\n",
              "      <th>frame_id</th>\n",
              "      <th>class_id</th>\n",
              "      <th>filename</th>\n",
              "      <th>distance</th>\n",
              "      <th>r</th>\n",
              "      <th>g</th>\n",
              "      <th>b</th>\n",
              "      <th>name</th>\n",
              "      <th>height</th>\n",
              "    </tr>\n",
              "  </thead>\n",
              "  <tbody>\n",
              "    <tr>\n",
              "      <th>0</th>\n",
              "      <td>364</td>\n",
              "      <td>116.0</td>\n",
              "      <td>107.0</td>\n",
              "      <td>15.0</td>\n",
              "      <td>34.0</td>\n",
              "      <td>150.0</td>\n",
              "      <td>39.0</td>\n",
              "      <td>data/IMG_20210112_155904353_HDR.jpg</td>\n",
              "      <td>155.8</td>\n",
              "      <td>82.078431</td>\n",
              "      <td>121.282353</td>\n",
              "      <td>236.260784</td>\n",
              "      <td>150.png</td>\n",
              "      <td>30.0</td>\n",
              "    </tr>\n",
              "    <tr>\n",
              "      <th>1</th>\n",
              "      <td>120</td>\n",
              "      <td>95.0</td>\n",
              "      <td>95.0</td>\n",
              "      <td>19.0</td>\n",
              "      <td>44.0</td>\n",
              "      <td>355.0</td>\n",
              "      <td>39.0</td>\n",
              "      <td>data/IMG_20210121_233725016.jpg</td>\n",
              "      <td>151.0</td>\n",
              "      <td>128.007177</td>\n",
              "      <td>61.608852</td>\n",
              "      <td>183.450957</td>\n",
              "      <td>355.png</td>\n",
              "      <td>30.0</td>\n",
              "    </tr>\n",
              "    <tr>\n",
              "      <th>2</th>\n",
              "      <td>74</td>\n",
              "      <td>268.0</td>\n",
              "      <td>88.0</td>\n",
              "      <td>28.0</td>\n",
              "      <td>58.0</td>\n",
              "      <td>29.0</td>\n",
              "      <td>39.0</td>\n",
              "      <td>data/IMG_20210107_142510917.jpg</td>\n",
              "      <td>107.1</td>\n",
              "      <td>163.181034</td>\n",
              "      <td>7.077586</td>\n",
              "      <td>117.250616</td>\n",
              "      <td>29.png</td>\n",
              "      <td>30.0</td>\n",
              "    </tr>\n",
              "    <tr>\n",
              "      <th>3</th>\n",
              "      <td>502</td>\n",
              "      <td>106.0</td>\n",
              "      <td>96.0</td>\n",
              "      <td>19.0</td>\n",
              "      <td>44.0</td>\n",
              "      <td>193.0</td>\n",
              "      <td>39.0</td>\n",
              "      <td>data/IMG_20210112_160746482_HDR.jpg</td>\n",
              "      <td>110.5</td>\n",
              "      <td>132.084928</td>\n",
              "      <td>55.494019</td>\n",
              "      <td>188.673445</td>\n",
              "      <td>193.png</td>\n",
              "      <td>30.0</td>\n",
              "    </tr>\n",
              "    <tr>\n",
              "      <th>4</th>\n",
              "      <td>460</td>\n",
              "      <td>159.0</td>\n",
              "      <td>114.0</td>\n",
              "      <td>12.0</td>\n",
              "      <td>29.0</td>\n",
              "      <td>180.0</td>\n",
              "      <td>39.0</td>\n",
              "      <td>data/IMG_20210112_160506740.jpg</td>\n",
              "      <td>188.4</td>\n",
              "      <td>94.109195</td>\n",
              "      <td>105.537356</td>\n",
              "      <td>224.152299</td>\n",
              "      <td>180.png</td>\n",
              "      <td>30.0</td>\n",
              "    </tr>\n",
              "    <tr>\n",
              "      <th>...</th>\n",
              "      <td>...</td>\n",
              "      <td>...</td>\n",
              "      <td>...</td>\n",
              "      <td>...</td>\n",
              "      <td>...</td>\n",
              "      <td>...</td>\n",
              "      <td>...</td>\n",
              "      <td>...</td>\n",
              "      <td>...</td>\n",
              "      <td>...</td>\n",
              "      <td>...</td>\n",
              "      <td>...</td>\n",
              "      <td>...</td>\n",
              "      <td>...</td>\n",
              "    </tr>\n",
              "    <tr>\n",
              "      <th>1027</th>\n",
              "      <td>94</td>\n",
              "      <td>135.0</td>\n",
              "      <td>53.0</td>\n",
              "      <td>44.0</td>\n",
              "      <td>93.0</td>\n",
              "      <td>347.0</td>\n",
              "      <td>40.0</td>\n",
              "      <td>data/IMG_20210121_233641377.jpg</td>\n",
              "      <td>28.0</td>\n",
              "      <td>108.649804</td>\n",
              "      <td>85.411290</td>\n",
              "      <td>212.261241</td>\n",
              "      <td>347.png</td>\n",
              "      <td>10.8</td>\n",
              "    </tr>\n",
              "    <tr>\n",
              "      <th>1028</th>\n",
              "      <td>88</td>\n",
              "      <td>124.0</td>\n",
              "      <td>65.0</td>\n",
              "      <td>46.0</td>\n",
              "      <td>93.0</td>\n",
              "      <td>345.0</td>\n",
              "      <td>40.0</td>\n",
              "      <td>data/IMG_20210121_233633530.jpg</td>\n",
              "      <td>26.0</td>\n",
              "      <td>101.550725</td>\n",
              "      <td>95.461431</td>\n",
              "      <td>217.669939</td>\n",
              "      <td>345.png</td>\n",
              "      <td>10.8</td>\n",
              "    </tr>\n",
              "    <tr>\n",
              "      <th>1029</th>\n",
              "      <td>125</td>\n",
              "      <td>6.0</td>\n",
              "      <td>90.0</td>\n",
              "      <td>113.0</td>\n",
              "      <td>72.0</td>\n",
              "      <td>255.0</td>\n",
              "      <td>26.0</td>\n",
              "      <td>data/IMG_20210120_232806031_HDR.jpg</td>\n",
              "      <td>7.4</td>\n",
              "      <td>107.734513</td>\n",
              "      <td>89.717306</td>\n",
              "      <td>209.089356</td>\n",
              "      <td>255.png</td>\n",
              "      <td>53.0</td>\n",
              "    </tr>\n",
              "    <tr>\n",
              "      <th>1030</th>\n",
              "      <td>336</td>\n",
              "      <td>117.0</td>\n",
              "      <td>110.0</td>\n",
              "      <td>89.0</td>\n",
              "      <td>35.0</td>\n",
              "      <td>142.0</td>\n",
              "      <td>68.0</td>\n",
              "      <td>data/IMG_20210112_155811075_HDR.jpg</td>\n",
              "      <td>116.1</td>\n",
              "      <td>157.862921</td>\n",
              "      <td>16.606100</td>\n",
              "      <td>141.129053</td>\n",
              "      <td>142.png</td>\n",
              "      <td>27.0</td>\n",
              "    </tr>\n",
              "    <tr>\n",
              "      <th>1031</th>\n",
              "      <td>211</td>\n",
              "      <td>175.0</td>\n",
              "      <td>122.0</td>\n",
              "      <td>79.0</td>\n",
              "      <td>32.0</td>\n",
              "      <td>285.0</td>\n",
              "      <td>68.0</td>\n",
              "      <td>data/IMG_20210120_234631834_HDR.jpg</td>\n",
              "      <td>143.9</td>\n",
              "      <td>152.955696</td>\n",
              "      <td>28.408623</td>\n",
              "      <td>160.978639</td>\n",
              "      <td>285.png</td>\n",
              "      <td>27.0</td>\n",
              "    </tr>\n",
              "  </tbody>\n",
              "</table>\n",
              "<p>1032 rows × 14 columns</p>\n",
              "</div>"
            ],
            "text/plain": [
              "      Unnamed: 0      x      y      w     h  frame_id  class_id  \\\n",
              "0            364  116.0  107.0   15.0  34.0     150.0      39.0   \n",
              "1            120   95.0   95.0   19.0  44.0     355.0      39.0   \n",
              "2             74  268.0   88.0   28.0  58.0      29.0      39.0   \n",
              "3            502  106.0   96.0   19.0  44.0     193.0      39.0   \n",
              "4            460  159.0  114.0   12.0  29.0     180.0      39.0   \n",
              "...          ...    ...    ...    ...   ...       ...       ...   \n",
              "1027          94  135.0   53.0   44.0  93.0     347.0      40.0   \n",
              "1028          88  124.0   65.0   46.0  93.0     345.0      40.0   \n",
              "1029         125    6.0   90.0  113.0  72.0     255.0      26.0   \n",
              "1030         336  117.0  110.0   89.0  35.0     142.0      68.0   \n",
              "1031         211  175.0  122.0   79.0  32.0     285.0      68.0   \n",
              "\n",
              "                                 filename  distance           r           g  \\\n",
              "0     data/IMG_20210112_155904353_HDR.jpg     155.8   82.078431  121.282353   \n",
              "1         data/IMG_20210121_233725016.jpg     151.0  128.007177   61.608852   \n",
              "2         data/IMG_20210107_142510917.jpg     107.1  163.181034    7.077586   \n",
              "3     data/IMG_20210112_160746482_HDR.jpg     110.5  132.084928   55.494019   \n",
              "4         data/IMG_20210112_160506740.jpg     188.4   94.109195  105.537356   \n",
              "...                                   ...       ...         ...         ...   \n",
              "1027      data/IMG_20210121_233641377.jpg      28.0  108.649804   85.411290   \n",
              "1028      data/IMG_20210121_233633530.jpg      26.0  101.550725   95.461431   \n",
              "1029  data/IMG_20210120_232806031_HDR.jpg       7.4  107.734513   89.717306   \n",
              "1030  data/IMG_20210112_155811075_HDR.jpg     116.1  157.862921   16.606100   \n",
              "1031  data/IMG_20210120_234631834_HDR.jpg     143.9  152.955696   28.408623   \n",
              "\n",
              "               b     name  height  \n",
              "0     236.260784  150.png    30.0  \n",
              "1     183.450957  355.png    30.0  \n",
              "2     117.250616   29.png    30.0  \n",
              "3     188.673445  193.png    30.0  \n",
              "4     224.152299  180.png    30.0  \n",
              "...          ...      ...     ...  \n",
              "1027  212.261241  347.png    10.8  \n",
              "1028  217.669939  345.png    10.8  \n",
              "1029  209.089356  255.png    53.0  \n",
              "1030  141.129053  142.png    27.0  \n",
              "1031  160.978639  285.png    27.0  \n",
              "\n",
              "[1032 rows x 14 columns]"
            ]
          },
          "metadata": {
            "tags": []
          },
          "execution_count": 19
        }
      ]
    },
    {
      "cell_type": "code",
      "metadata": {
        "id": "vb-lhHKdQzyb"
      },
      "source": [
        "imgdata1=pd.DataFrame(imagefeatures,columns=img_features_name)\n",
        "imgdata1['y_actual']=X_train['distance']\n",
        "imgdata1['x']=X_train['x']\n",
        "imgdata1['y']=X_train['y']\n",
        "imgdata1['w']=X_train['w']\n",
        "imgdata1['h']=X_train['h']\n",
        "imgdata1['height']=X_train['height']  "
      ],
      "execution_count": null,
      "outputs": []
    },
    {
      "cell_type": "code",
      "metadata": {
        "id": "Fe_gg8kPQzyb",
        "outputId": "a409d562-a968-4fac-ec4f-998c79a87e1f"
      },
      "source": [
        "imgdata1.shape"
      ],
      "execution_count": null,
      "outputs": [
        {
          "output_type": "execute_result",
          "data": {
            "text/plain": [
              "(1032, 978)"
            ]
          },
          "metadata": {
            "tags": []
          },
          "execution_count": 21
        }
      ]
    },
    {
      "cell_type": "code",
      "metadata": {
        "id": "eHgKw828Qzyb"
      },
      "source": [
        "\n",
        "\n",
        "imagefeatures = np.zeros((X_cv.shape[0], 972),dtype=int)\n",
        "import  cv2\n",
        "for x,y,w,h ,f,j in zip(X_cv['x'],X_cv['y'],X_cv['w'],X_cv['h'],X_cv['frame_id'],range(0,X_cv.shape[0])):\n",
        "\n",
        "# Python program to explain cv2.rectangle() method\n",
        "# print(f)\n",
        "\n",
        "# importing cv2\n",
        "# path\n",
        "    path = \"png_depth/\"+ str(int(f))+\"_depth.png\"\n",
        "\n",
        "    # Reading an image in default mode\n",
        "    image = cv2.imread(path)\n",
        "    # print(image.shape)\n",
        "    bigger = cv2.resize(image, (64 , 128))\n",
        "    # Blue color in BGR\n",
        "    # color = (255, 0, 0)\n",
        "    # Line thickness of 2 px\n",
        "    thickness = 2\n",
        "    # Using cv2.rectangle() method\n",
        "    # Draw a rectangle with blue line borders of thickness of 2 px\n",
        "    # image = cv2.rectangle(image, start_point, end_point, color, thickness)\n",
        "    # Displayin# Window name in which image is displayed\n",
        "    # window_name = 'Image'\n",
        "    # Start coordinate, here (5, 5)\n",
        "    # represents the top left corner of rectangle\n",
        "    start_point = (int(x),int(y))\n",
        "    # Ending coordinate, here (220, 220)\n",
        "    # represents the bottom right corner of rectangle\n",
        "    end_point = (int(x+w), int(y+h))\n",
        "\n",
        "    cropped_img=image[int(y): int(y)+int(h), int(x): int(x)+int(w)]\n",
        "    new= cv2.resize(cropped_img, (18 , 18),interpolation = cv2.INTER_NEAREST)\n",
        "    img_arr =  new.flatten()\n",
        "    \n",
        "    imagefeatures[j]=+img_arr\n",
        "    #a=np.mean(cropped_img,axis=(0,1))\n",
        "    #r.append(a[0])\n",
        "    #g.append(a[1])\n",
        "    #b.append(a[2])\n",
        "    \n",
        "    \n",
        "img_features_name = []\n",
        "for i in range(972):\n",
        "    img_features_name.append('pix' + str(i))\n",
        "    \n",
        "\n",
        "    \n",
        "a=list(set(result['class_id']))\n",
        "b=[27,27,77,27,77,30,10.8,10.8,53,53,53,27,27]\n",
        "df = pd.DataFrame() \n",
        "df['class_id']=a\n",
        "df['height']=b\n",
        "X_cv=pd.merge(X_cv, df, how=\"inner\", on=\"class_id\")\n",
        "\n",
        "\n",
        "imgdata2=pd.DataFrame(imagefeatures,columns=img_features_name)\n",
        "imgdata2['y_actual']=X_cv['distance']\n",
        "imgdata2['x']=X_cv['x']\n",
        "imgdata2['y']=X_cv['y']\n",
        "imgdata2['w']=X_cv['w']\n",
        "imgdata2['h']=X_cv['h']\n",
        "imgdata2['height']=X_cv['height']  \n"
      ],
      "execution_count": null,
      "outputs": []
    },
    {
      "cell_type": "code",
      "metadata": {
        "id": "Iz4Hbqk6Qzyc",
        "outputId": "fcd6a939-58c3-4295-afc4-3ea58ea88ad6"
      },
      "source": [
        "imgdata2.shape"
      ],
      "execution_count": null,
      "outputs": [
        {
          "output_type": "execute_result",
          "data": {
            "text/plain": [
              "(55, 978)"
            ]
          },
          "metadata": {
            "tags": []
          },
          "execution_count": 23
        }
      ]
    },
    {
      "cell_type": "code",
      "metadata": {
        "id": "A0sKlpApQzyd"
      },
      "source": [
        "from sklearn.preprocessing import StandardScaler\n",
        "X=imgdata1.loc[:, imgdata1.columns != 'y_actual']\n",
        "X_test=imgdata2.loc[:, imgdata2.columns != 'y_actual']\n",
        "scale = StandardScaler()\n",
        "X_tr = scale.fit_transform(X)\n",
        "X_cr=scale.transform(X_test)"
      ],
      "execution_count": null,
      "outputs": []
    },
    {
      "cell_type": "code",
      "metadata": {
        "id": "zPoys-8uQzye",
        "outputId": "07300fbe-b18c-40c2-89d1-34d8215f7238"
      },
      "source": [
        "X_tr.shape"
      ],
      "execution_count": null,
      "outputs": [
        {
          "output_type": "execute_result",
          "data": {
            "text/plain": [
              "(1032, 977)"
            ]
          },
          "metadata": {
            "tags": []
          },
          "execution_count": 25
        }
      ]
    },
    {
      "cell_type": "code",
      "metadata": {
        "id": "9-T2aSxGQzye",
        "outputId": "a50075b3-30a7-4a54-8f74-35e8fd92cfb1"
      },
      "source": [
        "X_cr.shape"
      ],
      "execution_count": null,
      "outputs": [
        {
          "output_type": "execute_result",
          "data": {
            "text/plain": [
              "(55, 977)"
            ]
          },
          "metadata": {
            "tags": []
          },
          "execution_count": 26
        }
      ]
    },
    {
      "cell_type": "code",
      "metadata": {
        "id": "GcmI1ukHQzyf"
      },
      "source": [
        "from keras.layers import Dense, Activation, Flatten, Dropout, BatchNormalization\n",
        "from keras.layers import Conv2D, MaxPooling2D\n",
        "from keras import regularizers, optimizers"
      ],
      "execution_count": null,
      "outputs": []
    },
    {
      "cell_type": "code",
      "metadata": {
        "id": "rWofa9PbQzyf"
      },
      "source": [
        "input1 = Input(shape=(480,640,3))\n",
        "\n",
        "#We can have more inputs if we want!\n",
        "input2 = Input(shape=X_tr.shape[1])"
      ],
      "execution_count": null,
      "outputs": []
    },
    {
      "cell_type": "code",
      "metadata": {
        "id": "RkuLL4UIQzyf"
      },
      "source": [
        "# first input model\n",
        "\n",
        "conv1 = Conv2D(64, kernel_size=4, activation='relu')(input1)\n",
        "pool1 = MaxPooling2D(pool_size=(2, 2))(conv1)\n",
        "conv2 = Conv2D(32, kernel_size=4, activation='relu')(pool1)\n",
        "pool2 = MaxPooling2D(pool_size=(2, 2))(conv2)\n",
        "flat1 = Flatten()(pool2)\n",
        "\n",
        "\n",
        "\n"
      ],
      "execution_count": null,
      "outputs": []
    },
    {
      "cell_type": "code",
      "metadata": {
        "id": "zmYdgJbsQzyg"
      },
      "source": [
        "from keras.layers import concatenate\n",
        "merge = concatenate([flat1, input2])"
      ],
      "execution_count": null,
      "outputs": []
    },
    {
      "cell_type": "code",
      "metadata": {
        "id": "cYJW7DYPQzyg",
        "outputId": "5b0c1b1e-5bbd-4cad-c14d-59dbc68e4b5b"
      },
      "source": [
        "# interpretation model\n",
        "hidden1 = Dense(10, activation='relu')(merge)\n",
        "hidden2 = Dense(10, activation='relu')(hidden1)\n",
        "output = Dense(1, activation='linear')(hidden2)\n",
        "model = Model(inputs=[input1, input2], outputs=output)\n",
        "# summarize layers\n",
        "print(model.summary())\n",
        "# plot graph\n"
      ],
      "execution_count": null,
      "outputs": [
        {
          "output_type": "stream",
          "text": [
            "Model: \"model\"\n",
            "__________________________________________________________________________________________________\n",
            "Layer (type)                    Output Shape         Param #     Connected to                     \n",
            "==================================================================================================\n",
            "input_1 (InputLayer)            [(None, 480, 640, 3) 0                                            \n",
            "__________________________________________________________________________________________________\n",
            "conv2d (Conv2D)                 (None, 477, 637, 64) 3136        input_1[0][0]                    \n",
            "__________________________________________________________________________________________________\n",
            "max_pooling2d (MaxPooling2D)    (None, 238, 318, 64) 0           conv2d[0][0]                     \n",
            "__________________________________________________________________________________________________\n",
            "conv2d_1 (Conv2D)               (None, 235, 315, 32) 32800       max_pooling2d[0][0]              \n",
            "__________________________________________________________________________________________________\n",
            "max_pooling2d_1 (MaxPooling2D)  (None, 117, 157, 32) 0           conv2d_1[0][0]                   \n",
            "__________________________________________________________________________________________________\n",
            "flatten (Flatten)               (None, 587808)       0           max_pooling2d_1[0][0]            \n",
            "__________________________________________________________________________________________________\n",
            "input_2 (InputLayer)            [(None, 977)]        0                                            \n",
            "__________________________________________________________________________________________________\n",
            "concatenate (Concatenate)       (None, 588785)       0           flatten[0][0]                    \n",
            "                                                                 input_2[0][0]                    \n",
            "__________________________________________________________________________________________________\n",
            "dense_1 (Dense)                 (None, 10)           5887860     concatenate[0][0]                \n",
            "__________________________________________________________________________________________________\n",
            "dense_2 (Dense)                 (None, 10)           110         dense_1[0][0]                    \n",
            "__________________________________________________________________________________________________\n",
            "dense_3 (Dense)                 (None, 1)            11          dense_2[0][0]                    \n",
            "==================================================================================================\n",
            "Total params: 5,923,917\n",
            "Trainable params: 5,923,917\n",
            "Non-trainable params: 0\n",
            "__________________________________________________________________________________________________\n",
            "None\n"
          ],
          "name": "stdout"
        }
      ]
    },
    {
      "cell_type": "code",
      "metadata": {
        "id": "aIbSaYlkQzyg"
      },
      "source": [
        "model.compile(loss='mean_squared_error', optimizer='adam')"
      ],
      "execution_count": null,
      "outputs": []
    },
    {
      "cell_type": "code",
      "metadata": {
        "id": "wiv958glQzyi"
      },
      "source": [
        "model.fit()"
      ],
      "execution_count": null,
      "outputs": []
    },
    {
      "cell_type": "code",
      "metadata": {
        "id": "75JMNGVPQzyj"
      },
      "source": [
        "train_image = np.zeros((1032, 480,640,3),dtype=int)"
      ],
      "execution_count": null,
      "outputs": []
    },
    {
      "cell_type": "code",
      "metadata": {
        "id": "qgMwcYLoQzyj"
      },
      "source": [
        "j=0\n",
        "for i in X_train['name']:\n",
        "    img= cv2.imread(\"image/\"+i)\n",
        "    \n",
        "    train_image[j]=+img\n",
        "    j+=1"
      ],
      "execution_count": null,
      "outputs": []
    },
    {
      "cell_type": "code",
      "metadata": {
        "id": "fsWodVN6Qzyj",
        "outputId": "8944f185-d33b-4112-acb8-382f4db76698"
      },
      "source": [
        "train_image[0].shape"
      ],
      "execution_count": null,
      "outputs": [
        {
          "output_type": "execute_result",
          "data": {
            "text/plain": [
              "(480, 640, 3)"
            ]
          },
          "metadata": {
            "tags": []
          },
          "execution_count": 37
        }
      ]
    },
    {
      "cell_type": "code",
      "metadata": {
        "id": "NtEUXCAfQzyk",
        "outputId": "785ad16d-4bb9-4d21-d099-8275476839e5"
      },
      "source": [
        "train_image.shape"
      ],
      "execution_count": null,
      "outputs": [
        {
          "output_type": "execute_result",
          "data": {
            "text/plain": [
              "(1032, 480, 640, 3)"
            ]
          },
          "metadata": {
            "tags": []
          },
          "execution_count": 38
        }
      ]
    },
    {
      "cell_type": "code",
      "metadata": {
        "id": "ylo4MfZjQzyk"
      },
      "source": [
        "train_2 = [train_image,X_tr]"
      ],
      "execution_count": null,
      "outputs": []
    },
    {
      "cell_type": "code",
      "metadata": {
        "id": "xddt9vFeQzyk",
        "outputId": "cfb9aaf3-e913-42d4-d614-73e413a00766"
      },
      "source": [
        ""
      ],
      "execution_count": null,
      "outputs": [
        {
          "output_type": "execute_result",
          "data": {
            "text/plain": [
              "[array([[[[226, 230, 231],\n",
              "          [221, 225, 226],\n",
              "          [222, 226, 227],\n",
              "          ...,\n",
              "          [194, 197, 201],\n",
              "          [193, 196, 200],\n",
              "          [191, 194, 198]],\n",
              " \n",
              "         [[225, 229, 230],\n",
              "          [221, 225, 226],\n",
              "          [221, 225, 226],\n",
              "          ...,\n",
              "          [195, 198, 202],\n",
              "          [193, 196, 200],\n",
              "          [197, 200, 204]],\n",
              " \n",
              "         [[224, 228, 229],\n",
              "          [221, 225, 226],\n",
              "          [221, 225, 226],\n",
              "          ...,\n",
              "          [195, 198, 202],\n",
              "          [194, 197, 202],\n",
              "          [194, 197, 201]],\n",
              " \n",
              "         ...,\n",
              " \n",
              "         [[178, 184, 189],\n",
              "          [173, 179, 185],\n",
              "          [174, 180, 185],\n",
              "          ...,\n",
              "          [171, 177, 182],\n",
              "          [173, 179, 184],\n",
              "          [170, 176, 181]],\n",
              " \n",
              "         [[177, 183, 188],\n",
              "          [173, 179, 184],\n",
              "          [173, 179, 184],\n",
              "          ...,\n",
              "          [170, 176, 181],\n",
              "          [171, 177, 182],\n",
              "          [170, 176, 181]],\n",
              " \n",
              "         [[175, 181, 186],\n",
              "          [171, 177, 182],\n",
              "          [171, 177, 182],\n",
              "          ...,\n",
              "          [171, 177, 183],\n",
              "          [176, 182, 187],\n",
              "          [172, 178, 183]]],\n",
              " \n",
              " \n",
              "        [[[199, 203, 204],\n",
              "          [198, 202, 203],\n",
              "          [198, 202, 203],\n",
              "          ...,\n",
              "          [187, 193, 192],\n",
              "          [187, 193, 192],\n",
              "          [190, 196, 195]],\n",
              " \n",
              "         [[199, 203, 204],\n",
              "          [199, 203, 204],\n",
              "          [199, 203, 204],\n",
              "          ...,\n",
              "          [190, 195, 194],\n",
              "          [188, 194, 193],\n",
              "          [189, 194, 193]],\n",
              " \n",
              "         [[200, 204, 205],\n",
              "          [199, 203, 204],\n",
              "          [199, 203, 203],\n",
              "          ...,\n",
              "          [190, 195, 194],\n",
              "          [189, 194, 193],\n",
              "          [190, 195, 194]],\n",
              " \n",
              "         ...,\n",
              " \n",
              "         [[146, 153, 162],\n",
              "          [145, 152, 161],\n",
              "          [144, 153, 162],\n",
              "          ...,\n",
              "          [ 42,  50,  72],\n",
              "          [ 40,  48,  71],\n",
              "          [ 40,  48,  71]],\n",
              " \n",
              "         [[147, 156, 165],\n",
              "          [147, 156, 165],\n",
              "          [142, 151, 160],\n",
              "          ...,\n",
              "          [ 40,  48,  71],\n",
              "          [ 41,  49,  72],\n",
              "          [ 41,  49,  72]],\n",
              " \n",
              "         [[145, 154, 163],\n",
              "          [147, 156, 166],\n",
              "          [149, 158, 167],\n",
              "          ...,\n",
              "          [ 46,  54,  77],\n",
              "          [ 43,  51,  74],\n",
              "          [ 43,  51,  74]]],\n",
              " \n",
              " \n",
              "        [[[182, 189, 192],\n",
              "          [178, 184, 187],\n",
              "          [182, 187, 190],\n",
              "          ...,\n",
              "          [203, 204, 208],\n",
              "          [202, 203, 207],\n",
              "          [200, 202, 205]],\n",
              " \n",
              "         [[100, 100, 106],\n",
              "          [189, 189, 195],\n",
              "          [189, 192, 197],\n",
              "          ...,\n",
              "          [202, 204, 205],\n",
              "          [204, 206, 207],\n",
              "          [202, 204, 205]],\n",
              " \n",
              "         [[ 94,  88,  93],\n",
              "          [ 84,  79,  84],\n",
              "          [180, 181, 185],\n",
              "          ...,\n",
              "          [202, 204, 205],\n",
              "          [201, 203, 204],\n",
              "          [204, 206, 207]],\n",
              " \n",
              "         ...,\n",
              " \n",
              "         [[ 93,  99, 105],\n",
              "          [ 93,  99, 106],\n",
              "          [ 94, 100, 107],\n",
              "          ...,\n",
              "          [123, 127, 132],\n",
              "          [123, 127, 132],\n",
              "          [123, 127, 132]],\n",
              " \n",
              "         [[ 92,  98, 105],\n",
              "          [ 94, 100, 107],\n",
              "          [ 95, 101, 108],\n",
              "          ...,\n",
              "          [125, 129, 134],\n",
              "          [123, 127, 132],\n",
              "          [125, 129, 134]],\n",
              " \n",
              "         [[ 92,  98, 105],\n",
              "          [ 93,  99, 106],\n",
              "          [ 93,  99, 106],\n",
              "          ...,\n",
              "          [122, 126, 131],\n",
              "          [126, 130, 135],\n",
              "          [121, 125, 130]]],\n",
              " \n",
              " \n",
              "        ...,\n",
              " \n",
              " \n",
              "        [[[219, 224, 225],\n",
              "          [216, 221, 222],\n",
              "          [216, 221, 222],\n",
              "          ...,\n",
              "          [208, 213, 216],\n",
              "          [207, 212, 215],\n",
              "          [205, 210, 213]],\n",
              " \n",
              "         [[219, 224, 225],\n",
              "          [215, 220, 221],\n",
              "          [216, 221, 222],\n",
              "          ...,\n",
              "          [206, 211, 214],\n",
              "          [206, 211, 214],\n",
              "          [207, 212, 215]],\n",
              " \n",
              "         [[219, 224, 225],\n",
              "          [216, 221, 222],\n",
              "          [215, 220, 221],\n",
              "          ...,\n",
              "          [206, 211, 214],\n",
              "          [206, 211, 214],\n",
              "          [207, 212, 215]],\n",
              " \n",
              "         ...,\n",
              " \n",
              "         [[181, 190, 194],\n",
              "          [177, 186, 190],\n",
              "          [178, 187, 191],\n",
              "          ...,\n",
              "          [180, 189, 192],\n",
              "          [178, 187, 191],\n",
              "          [179, 188, 192]],\n",
              " \n",
              "         [[180, 189, 193],\n",
              "          [178, 187, 191],\n",
              "          [178, 187, 191],\n",
              "          ...,\n",
              "          [175, 184, 188],\n",
              "          [176, 185, 189],\n",
              "          [175, 184, 188]],\n",
              " \n",
              "         [[181, 190, 194],\n",
              "          [178, 187, 191],\n",
              "          [177, 186, 190],\n",
              "          ...,\n",
              "          [178, 187, 191],\n",
              "          [175, 184, 188],\n",
              "          [176, 185, 189]]],\n",
              " \n",
              " \n",
              "        [[[221, 224, 228],\n",
              "          [219, 222, 226],\n",
              "          [220, 223, 227],\n",
              "          ...,\n",
              "          [208, 211, 215],\n",
              "          [207, 210, 214],\n",
              "          [207, 210, 214]],\n",
              " \n",
              "         [[216, 219, 223],\n",
              "          [219, 222, 226],\n",
              "          [218, 221, 225],\n",
              "          ...,\n",
              "          [210, 213, 217],\n",
              "          [208, 211, 215],\n",
              "          [207, 210, 214]],\n",
              " \n",
              "         [[219, 222, 226],\n",
              "          [221, 224, 228],\n",
              "          [221, 224, 228],\n",
              "          ...,\n",
              "          [207, 210, 215],\n",
              "          [208, 211, 214],\n",
              "          [206, 209, 213]],\n",
              " \n",
              "         ...,\n",
              " \n",
              "         [[120, 132, 138],\n",
              "          [114, 126, 132],\n",
              "          [119, 131, 137],\n",
              "          ...,\n",
              "          [158, 167, 171],\n",
              "          [155, 164, 168],\n",
              "          [154, 163, 166]],\n",
              " \n",
              "         [[112, 123, 130],\n",
              "          [122, 134, 140],\n",
              "          [119, 131, 137],\n",
              "          ...,\n",
              "          [160, 169, 173],\n",
              "          [158, 167, 171],\n",
              "          [154, 163, 167]],\n",
              " \n",
              "         [[108, 121, 129],\n",
              "          [115, 129, 135],\n",
              "          [117, 129, 135],\n",
              "          ...,\n",
              "          [156, 165, 169],\n",
              "          [159, 168, 172],\n",
              "          [156, 165, 169]]],\n",
              " \n",
              " \n",
              "        [[[117, 134, 141],\n",
              "          [121, 138, 145],\n",
              "          [119, 137, 144],\n",
              "          ...,\n",
              "          [170, 176, 179],\n",
              "          [170, 177, 180],\n",
              "          [165, 172, 175]],\n",
              " \n",
              "         [[109, 127, 135],\n",
              "          [111, 129, 140],\n",
              "          [115, 132, 141],\n",
              "          ...,\n",
              "          [170, 177, 180],\n",
              "          [169, 176, 179],\n",
              "          [169, 176, 179]],\n",
              " \n",
              "         [[116, 133, 141],\n",
              "          [116, 134, 141],\n",
              "          [121, 138, 146],\n",
              "          ...,\n",
              "          [172, 179, 182],\n",
              "          [171, 178, 181],\n",
              "          [169, 176, 179]],\n",
              " \n",
              "         ...,\n",
              " \n",
              "         [[160, 169, 174],\n",
              "          [162, 171, 175],\n",
              "          [159, 168, 172],\n",
              "          ...,\n",
              "          [137, 146, 150],\n",
              "          [142, 151, 155],\n",
              "          [141, 152, 156]],\n",
              " \n",
              "         [[157, 166, 170],\n",
              "          [162, 171, 175],\n",
              "          [159, 168, 172],\n",
              "          ...,\n",
              "          [136, 145, 149],\n",
              "          [139, 148, 152],\n",
              "          [141, 150, 154]],\n",
              " \n",
              "         [[161, 170, 174],\n",
              "          [163, 172, 176],\n",
              "          [158, 167, 171],\n",
              "          ...,\n",
              "          [138, 147, 151],\n",
              "          [143, 152, 156],\n",
              "          [141, 150, 154]]]]),\n",
              " array([[-0.35029564,  0.20365937,  0.56809276, ..., -1.05783785,\n",
              "         -0.88938475, -0.28921066],\n",
              "        [-0.93426745,  0.8132592 ,  0.81701399, ..., -0.97361561,\n",
              "         -0.49393233, -0.28921066],\n",
              "        [ 1.95904744, -1.72674008, -2.20115594, ..., -0.78411558,\n",
              "          0.05970105, -0.28921066],\n",
              "        ...,\n",
              "        [ 0.76455964, -0.77847368, -0.52093763, ...,  1.00560701,\n",
              "          0.61333444,  0.95165271],\n",
              "        [-1.22625335,  1.94779221,  0.50586245, ...,  0.50027357,\n",
              "         -0.84983951, -0.45106241],\n",
              "        [-0.05830973, -0.06727388,  0.35028668, ...,  0.28971797,\n",
              "         -0.96847523, -0.45106241]])]"
            ]
          },
          "metadata": {
            "tags": []
          },
          "execution_count": 220
        }
      ]
    },
    {
      "cell_type": "code",
      "metadata": {
        "id": "YiOqsx1VQzyl",
        "outputId": "7ec3f412-34ee-4212-ef04-ff6a35221250"
      },
      "source": [
        "history = model.fit(train_2, y_train, batch_size=256, epochs=5, verbose=1,validation_split=0.05 )"
      ],
      "execution_count": null,
      "outputs": [
        {
          "output_type": "stream",
          "text": [
            "Epoch 1/5\n"
          ],
          "name": "stdout"
        },
        {
          "output_type": "error",
          "ename": "ResourceExhaustedError",
          "evalue": " OOM when allocating tensor with shape[256,64,477,637] and type float on /job:localhost/replica:0/task:0/device:GPU:0 by allocator GPU_0_bfc\n\t [[node model/conv2d/Relu (defined at <ipython-input-40-eee2a48699e1>:1) ]]\nHint: If you want to see a list of allocated tensors when OOM happens, add report_tensor_allocations_upon_oom to RunOptions for current allocation info.\n [Op:__inference_train_function_826]\n\nFunction call stack:\ntrain_function\n",
          "traceback": [
            "\u001b[1;31m---------------------------------------------------------------------------\u001b[0m",
            "\u001b[1;31mResourceExhaustedError\u001b[0m                    Traceback (most recent call last)",
            "\u001b[1;32m<ipython-input-40-eee2a48699e1>\u001b[0m in \u001b[0;36m<module>\u001b[1;34m\u001b[0m\n\u001b[1;32m----> 1\u001b[1;33m \u001b[0mhistory\u001b[0m \u001b[1;33m=\u001b[0m \u001b[0mmodel\u001b[0m\u001b[1;33m.\u001b[0m\u001b[0mfit\u001b[0m\u001b[1;33m(\u001b[0m\u001b[0mtrain_2\u001b[0m\u001b[1;33m,\u001b[0m \u001b[0my_train\u001b[0m\u001b[1;33m,\u001b[0m \u001b[0mbatch_size\u001b[0m\u001b[1;33m=\u001b[0m\u001b[1;36m256\u001b[0m\u001b[1;33m,\u001b[0m \u001b[0mepochs\u001b[0m\u001b[1;33m=\u001b[0m\u001b[1;36m5\u001b[0m\u001b[1;33m,\u001b[0m \u001b[0mverbose\u001b[0m\u001b[1;33m=\u001b[0m\u001b[1;36m1\u001b[0m\u001b[1;33m,\u001b[0m\u001b[0mvalidation_split\u001b[0m\u001b[1;33m=\u001b[0m\u001b[1;36m0.05\u001b[0m \u001b[1;33m)\u001b[0m\u001b[1;33m\u001b[0m\u001b[1;33m\u001b[0m\u001b[0m\n\u001b[0m",
            "\u001b[1;32m~\\anaconda3\\lib\\site-packages\\tensorflow\\python\\keras\\engine\\training.py\u001b[0m in \u001b[0;36mfit\u001b[1;34m(self, x, y, batch_size, epochs, verbose, callbacks, validation_split, validation_data, shuffle, class_weight, sample_weight, initial_epoch, steps_per_epoch, validation_steps, validation_batch_size, validation_freq, max_queue_size, workers, use_multiprocessing)\u001b[0m\n\u001b[0;32m   1098\u001b[0m                 _r=1):\n\u001b[0;32m   1099\u001b[0m               \u001b[0mcallbacks\u001b[0m\u001b[1;33m.\u001b[0m\u001b[0mon_train_batch_begin\u001b[0m\u001b[1;33m(\u001b[0m\u001b[0mstep\u001b[0m\u001b[1;33m)\u001b[0m\u001b[1;33m\u001b[0m\u001b[1;33m\u001b[0m\u001b[0m\n\u001b[1;32m-> 1100\u001b[1;33m               \u001b[0mtmp_logs\u001b[0m \u001b[1;33m=\u001b[0m \u001b[0mself\u001b[0m\u001b[1;33m.\u001b[0m\u001b[0mtrain_function\u001b[0m\u001b[1;33m(\u001b[0m\u001b[0miterator\u001b[0m\u001b[1;33m)\u001b[0m\u001b[1;33m\u001b[0m\u001b[1;33m\u001b[0m\u001b[0m\n\u001b[0m\u001b[0;32m   1101\u001b[0m               \u001b[1;32mif\u001b[0m \u001b[0mdata_handler\u001b[0m\u001b[1;33m.\u001b[0m\u001b[0mshould_sync\u001b[0m\u001b[1;33m:\u001b[0m\u001b[1;33m\u001b[0m\u001b[1;33m\u001b[0m\u001b[0m\n\u001b[0;32m   1102\u001b[0m                 \u001b[0mcontext\u001b[0m\u001b[1;33m.\u001b[0m\u001b[0masync_wait\u001b[0m\u001b[1;33m(\u001b[0m\u001b[1;33m)\u001b[0m\u001b[1;33m\u001b[0m\u001b[1;33m\u001b[0m\u001b[0m\n",
            "\u001b[1;32m~\\anaconda3\\lib\\site-packages\\tensorflow\\python\\eager\\def_function.py\u001b[0m in \u001b[0;36m__call__\u001b[1;34m(self, *args, **kwds)\u001b[0m\n\u001b[0;32m    826\u001b[0m     \u001b[0mtracing_count\u001b[0m \u001b[1;33m=\u001b[0m \u001b[0mself\u001b[0m\u001b[1;33m.\u001b[0m\u001b[0mexperimental_get_tracing_count\u001b[0m\u001b[1;33m(\u001b[0m\u001b[1;33m)\u001b[0m\u001b[1;33m\u001b[0m\u001b[1;33m\u001b[0m\u001b[0m\n\u001b[0;32m    827\u001b[0m     \u001b[1;32mwith\u001b[0m \u001b[0mtrace\u001b[0m\u001b[1;33m.\u001b[0m\u001b[0mTrace\u001b[0m\u001b[1;33m(\u001b[0m\u001b[0mself\u001b[0m\u001b[1;33m.\u001b[0m\u001b[0m_name\u001b[0m\u001b[1;33m)\u001b[0m \u001b[1;32mas\u001b[0m \u001b[0mtm\u001b[0m\u001b[1;33m:\u001b[0m\u001b[1;33m\u001b[0m\u001b[1;33m\u001b[0m\u001b[0m\n\u001b[1;32m--> 828\u001b[1;33m       \u001b[0mresult\u001b[0m \u001b[1;33m=\u001b[0m \u001b[0mself\u001b[0m\u001b[1;33m.\u001b[0m\u001b[0m_call\u001b[0m\u001b[1;33m(\u001b[0m\u001b[1;33m*\u001b[0m\u001b[0margs\u001b[0m\u001b[1;33m,\u001b[0m \u001b[1;33m**\u001b[0m\u001b[0mkwds\u001b[0m\u001b[1;33m)\u001b[0m\u001b[1;33m\u001b[0m\u001b[1;33m\u001b[0m\u001b[0m\n\u001b[0m\u001b[0;32m    829\u001b[0m       \u001b[0mcompiler\u001b[0m \u001b[1;33m=\u001b[0m \u001b[1;34m\"xla\"\u001b[0m \u001b[1;32mif\u001b[0m \u001b[0mself\u001b[0m\u001b[1;33m.\u001b[0m\u001b[0m_experimental_compile\u001b[0m \u001b[1;32melse\u001b[0m \u001b[1;34m\"nonXla\"\u001b[0m\u001b[1;33m\u001b[0m\u001b[1;33m\u001b[0m\u001b[0m\n\u001b[0;32m    830\u001b[0m       \u001b[0mnew_tracing_count\u001b[0m \u001b[1;33m=\u001b[0m \u001b[0mself\u001b[0m\u001b[1;33m.\u001b[0m\u001b[0mexperimental_get_tracing_count\u001b[0m\u001b[1;33m(\u001b[0m\u001b[1;33m)\u001b[0m\u001b[1;33m\u001b[0m\u001b[1;33m\u001b[0m\u001b[0m\n",
            "\u001b[1;32m~\\anaconda3\\lib\\site-packages\\tensorflow\\python\\eager\\def_function.py\u001b[0m in \u001b[0;36m_call\u001b[1;34m(self, *args, **kwds)\u001b[0m\n\u001b[0;32m    886\u001b[0m         \u001b[1;31m# Lifting succeeded, so variables are initialized and we can run the\u001b[0m\u001b[1;33m\u001b[0m\u001b[1;33m\u001b[0m\u001b[1;33m\u001b[0m\u001b[0m\n\u001b[0;32m    887\u001b[0m         \u001b[1;31m# stateless function.\u001b[0m\u001b[1;33m\u001b[0m\u001b[1;33m\u001b[0m\u001b[1;33m\u001b[0m\u001b[0m\n\u001b[1;32m--> 888\u001b[1;33m         \u001b[1;32mreturn\u001b[0m \u001b[0mself\u001b[0m\u001b[1;33m.\u001b[0m\u001b[0m_stateless_fn\u001b[0m\u001b[1;33m(\u001b[0m\u001b[1;33m*\u001b[0m\u001b[0margs\u001b[0m\u001b[1;33m,\u001b[0m \u001b[1;33m**\u001b[0m\u001b[0mkwds\u001b[0m\u001b[1;33m)\u001b[0m\u001b[1;33m\u001b[0m\u001b[1;33m\u001b[0m\u001b[0m\n\u001b[0m\u001b[0;32m    889\u001b[0m     \u001b[1;32melse\u001b[0m\u001b[1;33m:\u001b[0m\u001b[1;33m\u001b[0m\u001b[1;33m\u001b[0m\u001b[0m\n\u001b[0;32m    890\u001b[0m       \u001b[0m_\u001b[0m\u001b[1;33m,\u001b[0m \u001b[0m_\u001b[0m\u001b[1;33m,\u001b[0m \u001b[0m_\u001b[0m\u001b[1;33m,\u001b[0m \u001b[0mfiltered_flat_args\u001b[0m \u001b[1;33m=\u001b[0m\u001b[0;31m \u001b[0m\u001b[0;31m\\\u001b[0m\u001b[1;33m\u001b[0m\u001b[1;33m\u001b[0m\u001b[0m\n",
            "\u001b[1;32m~\\anaconda3\\lib\\site-packages\\tensorflow\\python\\eager\\function.py\u001b[0m in \u001b[0;36m__call__\u001b[1;34m(self, *args, **kwargs)\u001b[0m\n\u001b[0;32m   2940\u001b[0m       (graph_function,\n\u001b[0;32m   2941\u001b[0m        filtered_flat_args) = self._maybe_define_function(args, kwargs)\n\u001b[1;32m-> 2942\u001b[1;33m     return graph_function._call_flat(\n\u001b[0m\u001b[0;32m   2943\u001b[0m         filtered_flat_args, captured_inputs=graph_function.captured_inputs)  # pylint: disable=protected-access\n\u001b[0;32m   2944\u001b[0m \u001b[1;33m\u001b[0m\u001b[0m\n",
            "\u001b[1;32m~\\anaconda3\\lib\\site-packages\\tensorflow\\python\\eager\\function.py\u001b[0m in \u001b[0;36m_call_flat\u001b[1;34m(self, args, captured_inputs, cancellation_manager)\u001b[0m\n\u001b[0;32m   1916\u001b[0m         and executing_eagerly):\n\u001b[0;32m   1917\u001b[0m       \u001b[1;31m# No tape is watching; skip to running the function.\u001b[0m\u001b[1;33m\u001b[0m\u001b[1;33m\u001b[0m\u001b[1;33m\u001b[0m\u001b[0m\n\u001b[1;32m-> 1918\u001b[1;33m       return self._build_call_outputs(self._inference_function.call(\n\u001b[0m\u001b[0;32m   1919\u001b[0m           ctx, args, cancellation_manager=cancellation_manager))\n\u001b[0;32m   1920\u001b[0m     forward_backward = self._select_forward_and_backward_functions(\n",
            "\u001b[1;32m~\\anaconda3\\lib\\site-packages\\tensorflow\\python\\eager\\function.py\u001b[0m in \u001b[0;36mcall\u001b[1;34m(self, ctx, args, cancellation_manager)\u001b[0m\n\u001b[0;32m    553\u001b[0m       \u001b[1;32mwith\u001b[0m \u001b[0m_InterpolateFunctionError\u001b[0m\u001b[1;33m(\u001b[0m\u001b[0mself\u001b[0m\u001b[1;33m)\u001b[0m\u001b[1;33m:\u001b[0m\u001b[1;33m\u001b[0m\u001b[1;33m\u001b[0m\u001b[0m\n\u001b[0;32m    554\u001b[0m         \u001b[1;32mif\u001b[0m \u001b[0mcancellation_manager\u001b[0m \u001b[1;32mis\u001b[0m \u001b[1;32mNone\u001b[0m\u001b[1;33m:\u001b[0m\u001b[1;33m\u001b[0m\u001b[1;33m\u001b[0m\u001b[0m\n\u001b[1;32m--> 555\u001b[1;33m           outputs = execute.execute(\n\u001b[0m\u001b[0;32m    556\u001b[0m               \u001b[0mstr\u001b[0m\u001b[1;33m(\u001b[0m\u001b[0mself\u001b[0m\u001b[1;33m.\u001b[0m\u001b[0msignature\u001b[0m\u001b[1;33m.\u001b[0m\u001b[0mname\u001b[0m\u001b[1;33m)\u001b[0m\u001b[1;33m,\u001b[0m\u001b[1;33m\u001b[0m\u001b[1;33m\u001b[0m\u001b[0m\n\u001b[0;32m    557\u001b[0m               \u001b[0mnum_outputs\u001b[0m\u001b[1;33m=\u001b[0m\u001b[0mself\u001b[0m\u001b[1;33m.\u001b[0m\u001b[0m_num_outputs\u001b[0m\u001b[1;33m,\u001b[0m\u001b[1;33m\u001b[0m\u001b[1;33m\u001b[0m\u001b[0m\n",
            "\u001b[1;32m~\\anaconda3\\lib\\site-packages\\tensorflow\\python\\eager\\execute.py\u001b[0m in \u001b[0;36mquick_execute\u001b[1;34m(op_name, num_outputs, inputs, attrs, ctx, name)\u001b[0m\n\u001b[0;32m     57\u001b[0m   \u001b[1;32mtry\u001b[0m\u001b[1;33m:\u001b[0m\u001b[1;33m\u001b[0m\u001b[1;33m\u001b[0m\u001b[0m\n\u001b[0;32m     58\u001b[0m     \u001b[0mctx\u001b[0m\u001b[1;33m.\u001b[0m\u001b[0mensure_initialized\u001b[0m\u001b[1;33m(\u001b[0m\u001b[1;33m)\u001b[0m\u001b[1;33m\u001b[0m\u001b[1;33m\u001b[0m\u001b[0m\n\u001b[1;32m---> 59\u001b[1;33m     tensors = pywrap_tfe.TFE_Py_Execute(ctx._handle, device_name, op_name,\n\u001b[0m\u001b[0;32m     60\u001b[0m                                         inputs, attrs, num_outputs)\n\u001b[0;32m     61\u001b[0m   \u001b[1;32mexcept\u001b[0m \u001b[0mcore\u001b[0m\u001b[1;33m.\u001b[0m\u001b[0m_NotOkStatusException\u001b[0m \u001b[1;32mas\u001b[0m \u001b[0me\u001b[0m\u001b[1;33m:\u001b[0m\u001b[1;33m\u001b[0m\u001b[1;33m\u001b[0m\u001b[0m\n",
            "\u001b[1;31mResourceExhaustedError\u001b[0m:  OOM when allocating tensor with shape[256,64,477,637] and type float on /job:localhost/replica:0/task:0/device:GPU:0 by allocator GPU_0_bfc\n\t [[node model/conv2d/Relu (defined at <ipython-input-40-eee2a48699e1>:1) ]]\nHint: If you want to see a list of allocated tensors when OOM happens, add report_tensor_allocations_upon_oom to RunOptions for current allocation info.\n [Op:__inference_train_function_826]\n\nFunction call stack:\ntrain_function\n"
          ]
        }
      ]
    },
    {
      "cell_type": "code",
      "metadata": {
        "id": "3FFroid2Qzyl",
        "outputId": "634f4c03-364e-4907-83fa-65e251083cf2"
      },
      "source": [
        "gpus = tf.config.list_physical_devices('GPU')\n",
        "if gpus:\n",
        "  # Restrict TensorFlow to only use the first GPU\n",
        "  try:\n",
        "    tf.config.experimental.set_visible_devices(gpus[0], 'GPU')\n",
        "    logical_gpus = tf.config.experimental.list_logical_devices('GPU')\n",
        "    print(len(gpus), \"Physical GPUs,\", len(logical_gpus), \"Logical GPU\")\n",
        "  except RuntimeError as e:\n",
        "    # Visible devices must be set before GPUs have been initialized\n",
        "    print(e)"
      ],
      "execution_count": null,
      "outputs": [
        {
          "output_type": "stream",
          "text": [
            "Visible devices cannot be modified after being initialized\n"
          ],
          "name": "stdout"
        }
      ]
    },
    {
      "cell_type": "code",
      "metadata": {
        "id": "NJsqnQ4eQzyl",
        "outputId": "c7c5ccfc-65cc-459b-a68a-9274f4b06546"
      },
      "source": [
        "import tensorflow as tf\n",
        "print(\"Num GPUs Available: \", len(tf.config.list_physical_devices('GPU')))"
      ],
      "execution_count": null,
      "outputs": [
        {
          "output_type": "stream",
          "text": [
            "Num GPUs Available:  2\n"
          ],
          "name": "stdout"
        }
      ]
    },
    {
      "cell_type": "code",
      "metadata": {
        "id": "2-uBIqBoQzym"
      },
      "source": [
        ""
      ],
      "execution_count": null,
      "outputs": []
    }
  ]
}