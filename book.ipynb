{
  "nbformat": 4,
  "nbformat_minor": 0,
  "metadata": {
    "colab": {
      "name": "Untitled9.ipynb",
      "provenance": [],
      "collapsed_sections": [],
      "authorship_tag": "ABX9TyMjyZswuZOIPRzpIBu3tPiM",
      "include_colab_link": true
    },
    "kernelspec": {
      "name": "python3",
      "display_name": "Python 3"
    },
    "language_info": {
      "name": "python"
    }
  },
  "cells": [
    {
      "cell_type": "markdown",
      "metadata": {
        "id": "view-in-github",
        "colab_type": "text"
      },
      "source": [
        "<a href=\"https://colab.research.google.com/github/shivam231129/book-publish-practice-/blob/main/book.ipynb\" target=\"_parent\"><img src=\"https://colab.research.google.com/assets/colab-badge.svg\" alt=\"Open In Colab\"/></a>"
      ]
    },
    {
      "cell_type": "markdown",
      "metadata": {
        "id": "L4FPfVYjVJSI"
      },
      "source": [
        "##**Problem statement**\n",
        "the problem is about analysing the given dataset and create some story. the target variable was considered as over_18columns as per my understanding and all the research revolve around this.  "
      ]
    },
    {
      "cell_type": "markdown",
      "metadata": {
        "id": "Q1yhLH9cR86f"
      },
      "source": [
        "##**Dataset details**\n",
        "- dataset consist of columns \n",
        "\n",
        "    Column        Non-Null Count   Dtype \n",
        "---  ------        --------------   ----- \n",
        " -   **time_created  509236 non-null  int64**  time when book  is created \n",
        " -   **date_created  509236 non-null  object** date  when book is created\n",
        " -   **up_votes      509236 non-null  int64**  the votes given to the book it shows how much the book is being liked \n",
        " -   **down_votes    509236 non-null  int64** dislikes given to book\n",
        " -   **title         509236 non-null  object** title of book which tell the description what the book actually is\n",
        " -   **over_18       509236 non-null  bool** this is being considered as our target variable since it is not given what to choose as target so for the best of my idea this was perfect to be choosen as target variable its a bollean type and shows which book is for readers below 18 and above 18.\n",
        "\n",
        " -   **author        509236 non-null  object** itsb name of theauthor who wrote the booki  \n",
        " -   **category      509236 non-null  object** category whether it is worldwide \n",
        "\n",
        "- memory usage: 27.7+ MB\n"
      ]
    },
    {
      "cell_type": "markdown",
      "metadata": {
        "id": "4OnHsGH_XFf5"
      },
      "source": [
        "##**time constraints**\n",
        "it should be not too slow not too fast as some of the delays are acceptable"
      ]
    },
    {
      "cell_type": "code",
      "metadata": {
        "colab": {
          "base_uri": "https://localhost:8080/"
        },
        "id": "ka9gdwWCBvpR",
        "outputId": "caf98582-a4bd-43b8-90e9-da1e7d4a1310"
      },
      "source": [
        "from google.colab import drive\n",
        "drive.mount('/content/drive')"
      ],
      "execution_count": 2,
      "outputs": [
        {
          "output_type": "stream",
          "text": [
            "Mounted at /content/drive\n"
          ],
          "name": "stdout"
        }
      ]
    },
    {
      "cell_type": "code",
      "metadata": {
        "id": "B8B-AVolB7-Y"
      },
      "source": [
        "%matplotlib inline\n",
        "import warnings\n",
        "warnings.filterwarnings(\"ignore\")\n",
        "\n",
        "import sqlite3\n",
        "import pandas as pd\n",
        "import numpy as np\n",
        "import nltk\n",
        "import string\n",
        "import matplotlib.pyplot as plt\n",
        "import seaborn as sns\n",
        "from sklearn.feature_extraction.text import TfidfTransformer\n",
        "from sklearn.feature_extraction.text import TfidfVectorizer\n",
        "\n",
        "from sklearn.feature_extraction.text import CountVectorizer\n",
        "from sklearn.metrics import confusion_matrix\n",
        "from sklearn import metrics\n",
        "from sklearn.metrics import roc_curve, auc\n",
        "from nltk.stem.porter import PorterStemmer\n",
        "from sklearn.preprocessing import LabelEncoder\n",
        "import re\n",
        "\n",
        "# Tutorial about Python regular expressions: https://pymotw.com/2/re/\n",
        "import string\n",
        "from nltk.corpus import stopwords\n",
        "from nltk.stem import PorterStemmer\n",
        "from nltk.stem.wordnet import WordNetLemmatizer\n",
        "\n",
        "\n",
        "import pickle\n",
        "\n",
        "from tqdm import tqdm\n",
        "import os"
      ],
      "execution_count": 3,
      "outputs": []
    },
    {
      "cell_type": "code",
      "metadata": {
        "id": "tJah340aCSPU"
      },
      "source": [
        "#loading csv file\n",
        "result=pd.read_csv(\"/content/drive/MyDrive/Eluvio_DS_Challenge.csv\")"
      ],
      "execution_count": 4,
      "outputs": []
    },
    {
      "cell_type": "code",
      "metadata": {
        "colab": {
          "base_uri": "https://localhost:8080/",
          "height": 407
        },
        "id": "s-cWmTO0C2D5",
        "outputId": "0a70c5e0-7a03-4477-91d1-760a7ccd7711"
      },
      "source": [
        "result"
      ],
      "execution_count": 5,
      "outputs": [
        {
          "output_type": "execute_result",
          "data": {
            "text/html": [
              "<div>\n",
              "<style scoped>\n",
              "    .dataframe tbody tr th:only-of-type {\n",
              "        vertical-align: middle;\n",
              "    }\n",
              "\n",
              "    .dataframe tbody tr th {\n",
              "        vertical-align: top;\n",
              "    }\n",
              "\n",
              "    .dataframe thead th {\n",
              "        text-align: right;\n",
              "    }\n",
              "</style>\n",
              "<table border=\"1\" class=\"dataframe\">\n",
              "  <thead>\n",
              "    <tr style=\"text-align: right;\">\n",
              "      <th></th>\n",
              "      <th>time_created</th>\n",
              "      <th>date_created</th>\n",
              "      <th>up_votes</th>\n",
              "      <th>down_votes</th>\n",
              "      <th>title</th>\n",
              "      <th>over_18</th>\n",
              "      <th>author</th>\n",
              "      <th>category</th>\n",
              "    </tr>\n",
              "  </thead>\n",
              "  <tbody>\n",
              "    <tr>\n",
              "      <th>0</th>\n",
              "      <td>1201232046</td>\n",
              "      <td>2008-01-25</td>\n",
              "      <td>3</td>\n",
              "      <td>0</td>\n",
              "      <td>Scores killed in Pakistan clashes</td>\n",
              "      <td>False</td>\n",
              "      <td>polar</td>\n",
              "      <td>worldnews</td>\n",
              "    </tr>\n",
              "    <tr>\n",
              "      <th>1</th>\n",
              "      <td>1201232075</td>\n",
              "      <td>2008-01-25</td>\n",
              "      <td>2</td>\n",
              "      <td>0</td>\n",
              "      <td>Japan resumes refuelling mission</td>\n",
              "      <td>False</td>\n",
              "      <td>polar</td>\n",
              "      <td>worldnews</td>\n",
              "    </tr>\n",
              "    <tr>\n",
              "      <th>2</th>\n",
              "      <td>1201232523</td>\n",
              "      <td>2008-01-25</td>\n",
              "      <td>3</td>\n",
              "      <td>0</td>\n",
              "      <td>US presses Egypt on Gaza border</td>\n",
              "      <td>False</td>\n",
              "      <td>polar</td>\n",
              "      <td>worldnews</td>\n",
              "    </tr>\n",
              "    <tr>\n",
              "      <th>3</th>\n",
              "      <td>1201233290</td>\n",
              "      <td>2008-01-25</td>\n",
              "      <td>1</td>\n",
              "      <td>0</td>\n",
              "      <td>Jump-start economy: Give health care to all</td>\n",
              "      <td>False</td>\n",
              "      <td>fadi420</td>\n",
              "      <td>worldnews</td>\n",
              "    </tr>\n",
              "    <tr>\n",
              "      <th>4</th>\n",
              "      <td>1201274720</td>\n",
              "      <td>2008-01-25</td>\n",
              "      <td>4</td>\n",
              "      <td>0</td>\n",
              "      <td>Council of Europe bashes EU&amp;UN terror blacklist</td>\n",
              "      <td>False</td>\n",
              "      <td>mhermans</td>\n",
              "      <td>worldnews</td>\n",
              "    </tr>\n",
              "    <tr>\n",
              "      <th>...</th>\n",
              "      <td>...</td>\n",
              "      <td>...</td>\n",
              "      <td>...</td>\n",
              "      <td>...</td>\n",
              "      <td>...</td>\n",
              "      <td>...</td>\n",
              "      <td>...</td>\n",
              "      <td>...</td>\n",
              "    </tr>\n",
              "    <tr>\n",
              "      <th>509231</th>\n",
              "      <td>1479816764</td>\n",
              "      <td>2016-11-22</td>\n",
              "      <td>5</td>\n",
              "      <td>0</td>\n",
              "      <td>Heil Trump : Donald Trump s  alt-right  white...</td>\n",
              "      <td>False</td>\n",
              "      <td>nonamenoglory</td>\n",
              "      <td>worldnews</td>\n",
              "    </tr>\n",
              "    <tr>\n",
              "      <th>509232</th>\n",
              "      <td>1479816772</td>\n",
              "      <td>2016-11-22</td>\n",
              "      <td>1</td>\n",
              "      <td>0</td>\n",
              "      <td>There are people speculating that this could b...</td>\n",
              "      <td>False</td>\n",
              "      <td>SummerRay</td>\n",
              "      <td>worldnews</td>\n",
              "    </tr>\n",
              "    <tr>\n",
              "      <th>509233</th>\n",
              "      <td>1479817056</td>\n",
              "      <td>2016-11-22</td>\n",
              "      <td>1</td>\n",
              "      <td>0</td>\n",
              "      <td>Professor receives Arab Researchers Award</td>\n",
              "      <td>False</td>\n",
              "      <td>AUSharjah</td>\n",
              "      <td>worldnews</td>\n",
              "    </tr>\n",
              "    <tr>\n",
              "      <th>509234</th>\n",
              "      <td>1479817157</td>\n",
              "      <td>2016-11-22</td>\n",
              "      <td>1</td>\n",
              "      <td>0</td>\n",
              "      <td>Nigel Farage attacks response to Trump ambassa...</td>\n",
              "      <td>False</td>\n",
              "      <td>smilyflower</td>\n",
              "      <td>worldnews</td>\n",
              "    </tr>\n",
              "    <tr>\n",
              "      <th>509235</th>\n",
              "      <td>1479817346</td>\n",
              "      <td>2016-11-22</td>\n",
              "      <td>1</td>\n",
              "      <td>0</td>\n",
              "      <td>Palestinian wielding knife shot dead in West B...</td>\n",
              "      <td>False</td>\n",
              "      <td>superislam</td>\n",
              "      <td>worldnews</td>\n",
              "    </tr>\n",
              "  </tbody>\n",
              "</table>\n",
              "<p>509236 rows × 8 columns</p>\n",
              "</div>"
            ],
            "text/plain": [
              "        time_created date_created  up_votes  ...  over_18         author   category\n",
              "0         1201232046   2008-01-25         3  ...    False          polar  worldnews\n",
              "1         1201232075   2008-01-25         2  ...    False          polar  worldnews\n",
              "2         1201232523   2008-01-25         3  ...    False          polar  worldnews\n",
              "3         1201233290   2008-01-25         1  ...    False        fadi420  worldnews\n",
              "4         1201274720   2008-01-25         4  ...    False       mhermans  worldnews\n",
              "...              ...          ...       ...  ...      ...            ...        ...\n",
              "509231    1479816764   2016-11-22         5  ...    False  nonamenoglory  worldnews\n",
              "509232    1479816772   2016-11-22         1  ...    False      SummerRay  worldnews\n",
              "509233    1479817056   2016-11-22         1  ...    False      AUSharjah  worldnews\n",
              "509234    1479817157   2016-11-22         1  ...    False    smilyflower  worldnews\n",
              "509235    1479817346   2016-11-22         1  ...    False     superislam  worldnews\n",
              "\n",
              "[509236 rows x 8 columns]"
            ]
          },
          "metadata": {
            "tags": []
          },
          "execution_count": 5
        }
      ]
    },
    {
      "cell_type": "code",
      "metadata": {
        "colab": {
          "base_uri": "https://localhost:8080/"
        },
        "id": "AQRU33UDC4Am",
        "outputId": "644da5f5-9b4f-4d15-bd76-e1742a0f744b"
      },
      "source": [
        "set(result['down_votes'])"
      ],
      "execution_count": 6,
      "outputs": [
        {
          "output_type": "execute_result",
          "data": {
            "text/plain": [
              "{0}"
            ]
          },
          "metadata": {
            "tags": []
          },
          "execution_count": 6
        }
      ]
    },
    {
      "cell_type": "code",
      "metadata": {
        "id": "Fx9chhaoDDSn"
      },
      "source": [
        ""
      ],
      "execution_count": 6,
      "outputs": []
    },
    {
      "cell_type": "code",
      "metadata": {
        "id": "-_OBHr0ODXEY"
      },
      "source": [
        ""
      ],
      "execution_count": 6,
      "outputs": []
    },
    {
      "cell_type": "code",
      "metadata": {
        "colab": {
          "base_uri": "https://localhost:8080/"
        },
        "id": "QPRYO4DKDczY",
        "outputId": "4e9e431a-98f7-4c15-e293-7b5814dd5695"
      },
      "source": [
        "set(result['category'])"
      ],
      "execution_count": 7,
      "outputs": [
        {
          "output_type": "execute_result",
          "data": {
            "text/plain": [
              "{'worldnews'}"
            ]
          },
          "metadata": {
            "tags": []
          },
          "execution_count": 7
        }
      ]
    },
    {
      "cell_type": "code",
      "metadata": {
        "colab": {
          "base_uri": "https://localhost:8080/"
        },
        "id": "am_lC1r2DzcA",
        "outputId": "919cad1b-0111-467e-d375-94e250b69279"
      },
      "source": [
        "result.info()"
      ],
      "execution_count": 8,
      "outputs": [
        {
          "output_type": "stream",
          "text": [
            "<class 'pandas.core.frame.DataFrame'>\n",
            "RangeIndex: 509236 entries, 0 to 509235\n",
            "Data columns (total 8 columns):\n",
            " #   Column        Non-Null Count   Dtype \n",
            "---  ------        --------------   ----- \n",
            " 0   time_created  509236 non-null  int64 \n",
            " 1   date_created  509236 non-null  object\n",
            " 2   up_votes      509236 non-null  int64 \n",
            " 3   down_votes    509236 non-null  int64 \n",
            " 4   title         509236 non-null  object\n",
            " 5   over_18       509236 non-null  bool  \n",
            " 6   author        509236 non-null  object\n",
            " 7   category      509236 non-null  object\n",
            "dtypes: bool(1), int64(3), object(4)\n",
            "memory usage: 27.7+ MB\n"
          ],
          "name": "stdout"
        }
      ]
    },
    {
      "cell_type": "markdown",
      "metadata": {
        "id": "TMJgAsHEE895"
      },
      "source": [
        "### **Observation**\n",
        "- clearly above data shows the information about all the columns\n",
        "- all the columns are filled that is none of the columns consist of **\"nan\"** values\n",
        "- here three types of data-types can be seen in the above record **int ,object ,bool**\n",
        "\n"
      ]
    },
    {
      "cell_type": "code",
      "metadata": {
        "id": "u_HzlXGlE8G6"
      },
      "source": [
        ""
      ],
      "execution_count": 8,
      "outputs": []
    },
    {
      "cell_type": "code",
      "metadata": {
        "colab": {
          "base_uri": "https://localhost:8080/"
        },
        "id": "fRE4XVb-D-Gc",
        "outputId": "7c08c888-0166-4401-b50c-f25b6b8e3c31"
      },
      "source": [
        "result['over_18'].value_counts()"
      ],
      "execution_count": 9,
      "outputs": [
        {
          "output_type": "execute_result",
          "data": {
            "text/plain": [
              "False    508916\n",
              "True        320\n",
              "Name: over_18, dtype: int64"
            ]
          },
          "metadata": {
            "tags": []
          },
          "execution_count": 9
        }
      ]
    },
    {
      "cell_type": "markdown",
      "metadata": {
        "id": "10SLF0xMXtV6"
      },
      "source": [
        "## **Exploratory data analysis**\n"
      ]
    },
    {
      "cell_type": "code",
      "metadata": {
        "id": "CQXgURDxErq7"
      },
      "source": [
        ""
      ],
      "execution_count": 9,
      "outputs": []
    },
    {
      "cell_type": "markdown",
      "metadata": {
        "id": "lVkkale6X3xG"
      },
      "source": [
        "### **Author**"
      ]
    },
    {
      "cell_type": "code",
      "metadata": {
        "colab": {
          "base_uri": "https://localhost:8080/",
          "height": 350
        },
        "id": "PsvV00foHqM_",
        "outputId": "678fa0b5-6edd-4c9c-9247-dd3aef36c6e7"
      },
      "source": [
        "#How to calculate number of words in a string in DataFrame: https://stackoverflow.com/a/37483537/4084039\n",
        "# code used from aaic assignment donorchoose\n",
        "word_count = result['author'].str.split().apply(len).value_counts()\n",
        "word_dict = dict(word_count)\n",
        "word_dict = dict(sorted(word_dict.items(), key=lambda kv: kv[1]))\n",
        "ind = np.arange(len(word_dict))\n",
        "plt.figure(figsize=(20,5))\n",
        "p1 = plt.bar(ind, list(word_dict.values()))\n",
        "plt.ylabel('Number of products')\n",
        "plt.xlabel('Number words in name')\n",
        "plt.title('Words for each name of product')\n",
        "plt.xticks(ind, list(word_dict.keys()))\n",
        "plt.grid();\n",
        "plt.show()\n"
      ],
      "execution_count": 10,
      "outputs": [
        {
          "output_type": "display_data",
          "data": {
            "image/png": "[encoded data removed]",
            "text/plain": [
              "<Figure size 1440x360 with 1 Axes>"
            ]
          },
          "metadata": {
            "tags": [],
            "needs_background": "light"
          }
        }
      ]
    },
    {
      "cell_type": "code",
      "metadata": {
        "colab": {
          "base_uri": "https://localhost:8080/"
        },
        "id": "4cogZZFVH8s8",
        "outputId": "e92e8522-9bc6-42bf-bcf4-64a8ff9fb4a1"
      },
      "source": [
        "print(\"length count\", word_count)\n",
        "print(\"unique authors\", len(set(result['author'])))"
      ],
      "execution_count": 11,
      "outputs": [
        {
          "output_type": "stream",
          "text": [
            "length count 1    509236\n",
            "Name: author, dtype: int64\n",
            "unique authors 85838\n"
          ],
          "name": "stdout"
        }
      ]
    },
    {
      "cell_type": "code",
      "metadata": {
        "id": "ht5K1BK6JLil"
      },
      "source": [
        ""
      ],
      "execution_count": 11,
      "outputs": []
    },
    {
      "cell_type": "markdown",
      "metadata": {
        "id": "aDTGxJThInTq"
      },
      "source": [
        "### **Observation**\n",
        "- according to above grapth and data the length of name of author is one \n",
        "- there are 85838 unique authors present in our datset\n",
        "- it can be concluded many authors have wrote more than one books \n",
        "- it might so happen an author can worte book which are above and lower 18 \n",
        " "
      ]
    },
    {
      "cell_type": "code",
      "metadata": {
        "id": "aQ6td2igIVmB"
      },
      "source": [
        "#How to calculate number of words in a string in DataFrame: https://stackoverflow.com/a/37483537/4084039\n",
        "# code used from aaic assignment donorchoose\n",
        "word_count = result['author'].value_counts()[:10]\n"
      ],
      "execution_count": 12,
      "outputs": []
    },
    {
      "cell_type": "code",
      "metadata": {
        "id": "MRaaVcEaK7yA"
      },
      "source": [
        ""
      ],
      "execution_count": 12,
      "outputs": []
    },
    {
      "cell_type": "code",
      "metadata": {
        "id": "vI_VEVaNODS6"
      },
      "source": [
        ""
      ],
      "execution_count": 12,
      "outputs": []
    },
    {
      "cell_type": "markdown",
      "metadata": {
        "id": "VuPUrfycYFYV"
      },
      "source": [
        "### **Author and book count**"
      ]
    },
    {
      "cell_type": "code",
      "metadata": {
        "colab": {
          "base_uri": "https://localhost:8080/",
          "height": 350
        },
        "id": "68YLsft4MRaL",
        "outputId": "889b1d5a-e9c9-424b-ff50-2499dec21cd3"
      },
      "source": [
        "word_dict = dict(word_count)\n",
        "word_dict = dict(sorted(word_dict.items(), key=lambda kv: kv[1]))\n",
        "ind = np.arange(len(word_dict))\n",
        "plt.figure(figsize=(20,5))\n",
        "p1 = plt.bar(ind, list(word_dict.values()))\n",
        "plt.ylabel('Number of books')\n",
        "plt.xlabel('name of top 10 author acc to no of books')\n",
        "plt.title('number of book and its author')\n",
        "plt.xticks(ind, list(word_dict.keys()))\n",
        "plt.grid();\n",
        "plt.show()\n"
      ],
      "execution_count": 13,
      "outputs": [
        {
          "output_type": "display_data",
          "data": {
            "image/png": "[encoded data removed]",
            "text/plain": [
              "<Figure size 1440x360 with 1 Axes>"
            ]
          },
          "metadata": {
            "tags": [],
            "needs_background": "light"
          }
        }
      ]
    },
    {
      "cell_type": "markdown",
      "metadata": {
        "id": "bZj2qY_MTydr"
      },
      "source": [
        "### **Observation**\n",
        "- The above plot shows top 10 author with with number of book publsh as to make plot tidy I considered only top 10 counts\n",
        "- The range of number of book written by author  varies from 1 to 8897 as to make plot tidy I considered only top 10 counts\n",
        "\n",
        "- In above only top 10 author   are considered along with  number of book publish\n",
        "- there are 85838 unique authors present in our datset"
      ]
    },
    {
      "cell_type": "markdown",
      "metadata": {
        "id": "XO3j7gz8YNF-"
      },
      "source": [
        "### **Title**\n"
      ]
    },
    {
      "cell_type": "markdown",
      "metadata": {
        "id": "MwTicmq8YZfY"
      },
      "source": [
        "### **Word count in title**"
      ]
    },
    {
      "cell_type": "code",
      "metadata": {
        "colab": {
          "base_uri": "https://localhost:8080/",
          "height": 350
        },
        "id": "cEcJ4UbVPSls",
        "outputId": "feac15bc-a051-4fea-988c-73ca09e15a69"
      },
      "source": [
        "\n",
        "#How to calculate number of words in a string in DataFrame: https://stackoverflow.com/a/37483537/4084039\n",
        "# code used from aaic assignment donorchoose\n",
        "word_count = result['title'].str.split().apply(len).value_counts()\n",
        "word_dict = dict(word_count)\n",
        "word_dict = dict(sorted(word_dict.items(), key=lambda kv: kv[1]))\n",
        "ind = np.arange(len(word_dict))\n",
        "plt.figure(figsize=(20,5))\n",
        "p1 = plt.bar(ind, list(word_dict.values()))\n",
        "plt.ylabel('Number of books')\n",
        "plt.xlabel('Number words in title')\n",
        "plt.title('Words for each name of product')\n",
        "plt.xticks(ind, list(word_dict.keys()))\n",
        "plt.grid();\n",
        "plt.show()\n"
      ],
      "execution_count": 14,
      "outputs": [
        {
          "output_type": "display_data",
          "data": {
            "image/png": "[encoded data removed]",
            "text/plain": [
              "<Figure size 1440x360 with 1 Axes>"
            ]
          },
          "metadata": {
            "tags": [],
            "needs_background": "light"
          }
        }
      ]
    },
    {
      "cell_type": "code",
      "metadata": {
        "colab": {
          "base_uri": "https://localhost:8080/"
        },
        "id": "DT-nE_gER9vk",
        "outputId": "410a97d1-3c4b-4b80-8e48-a7c70e11597e"
      },
      "source": [
        "word_count"
      ],
      "execution_count": 15,
      "outputs": [
        {
          "output_type": "execute_result",
          "data": {
            "text/plain": [
              "9     56822\n",
              "8     53234\n",
              "10    51533\n",
              "11    41727\n",
              "7     41568\n",
              "      ...  \n",
              "59        6\n",
              "61        6\n",
              "63        1\n",
              "62        1\n",
              "64        1\n",
              "Name: title, Length: 64, dtype: int64"
            ]
          },
          "metadata": {
            "tags": []
          },
          "execution_count": 15
        }
      ]
    },
    {
      "cell_type": "markdown",
      "metadata": {
        "id": "KsC16J1iYh_h"
      },
      "source": [
        "### **Observation**\n",
        "- 56822 books are their which word length 9\n",
        "- 3 books are their which consist of title length 1 \n",
        "- title length ranges from 1 to 64\n",
        "- books with small title length are more as compared to large title length which can be viewed in above plot which explains the length of title in decreasing order \n",
        "-  according to above curve and data the largest or maximum book have title length 9 \n",
        "- minimum number of book have title length 64,63,64"
      ]
    },
    {
      "cell_type": "markdown",
      "metadata": {
        "id": "Z0ETo5hkYh0v"
      },
      "source": [
        "### **Upvote**"
      ]
    },
    {
      "cell_type": "code",
      "metadata": {
        "colab": {
          "base_uri": "https://localhost:8080/"
        },
        "id": "o8jqK6WKSLT0",
        "outputId": "be0a86c6-b4d2-444a-da4b-8978a171025b"
      },
      "source": [
        "result['up_votes'].value_counts()"
      ],
      "execution_count": 16,
      "outputs": [
        {
          "output_type": "execute_result",
          "data": {
            "text/plain": [
              "0       93555\n",
              "1       46619\n",
              "2       44195\n",
              "3       36112\n",
              "4       29917\n",
              "        ...  \n",
              "6196        1\n",
              "6881        1\n",
              "6509        1\n",
              "4850        1\n",
              "3806        1\n",
              "Name: up_votes, Length: 5782, dtype: int64"
            ]
          },
          "metadata": {
            "tags": []
          },
          "execution_count": 16
        }
      ]
    },
    {
      "cell_type": "code",
      "metadata": {
        "id": "2t_8gtDGj1ef"
      },
      "source": [
        ""
      ],
      "execution_count": 16,
      "outputs": []
    },
    {
      "cell_type": "markdown",
      "metadata": {
        "id": "EzpQKeaPgSNP"
      },
      "source": [
        "### **Observation**\n",
        "- the above data shows or gives answer how many books receives zero rating or 1 rating and so on\n",
        "- 93555 books were their which receives 0 rattings \n",
        "- 1 books exist which receive 6196 rattings,6881 rattings,6509 rattings , 4850 rattings , 3806 rattings"
      ]
    },
    {
      "cell_type": "code",
      "metadata": {
        "id": "CPKl5rfHbDPL"
      },
      "source": [
        ""
      ],
      "execution_count": 16,
      "outputs": []
    },
    {
      "cell_type": "code",
      "metadata": {
        "colab": {
          "base_uri": "https://localhost:8080/",
          "height": 827
        },
        "id": "Lb2LX9f5bDyT",
        "outputId": "1fa3232d-c740-4233-ea26-8938e213a9b5"
      },
      "source": [
        "sns.FacetGrid(result,size=6) \\\n",
        "    .map(sns.kdeplot,\"up_votes\") \\\n",
        "    .add_legend();\n",
        "plt.title('upvote density distribution')\n",
        "\n",
        "plt.ylabel('probability')\n",
        "plt.grid(); \n",
        "\n",
        "plt.show();\n",
        "\n",
        "\n",
        "\n",
        "# Need for Cumulative Distribution Function (CDF)\n",
        "# We can visually see what percentage of versicolor flowers have a \n",
        "# petal_length of less than 5?\n",
        "# How to construct a CDF?\n",
        "# How to read a CDF?\n",
        "\n",
        "#Plot CDF of petal_length\n",
        "\n",
        "counts, bin_edges = np.histogram(result['up_votes'], bins=10, \n",
        "                                 density = True)\n",
        "pdf = counts/(sum(counts))\n",
        "print(pdf);\n",
        "print(bin_edges);\n",
        "cdf = np.cumsum(pdf)\n",
        "#plt.plot(bin_edges[1:],pdf);\n",
        "plt.plot(bin_edges[1:], cdf)\n",
        "\n",
        "\n",
        "plt.title('cummulative density distribution of up_votes ')\n",
        "plt.xlabel('up_votes')\n",
        "plt.ylabel('cumsum')\n",
        " \n",
        "plt.grid();\n",
        "plt.show();"
      ],
      "execution_count": 17,
      "outputs": [
        {
          "output_type": "display_data",
          "data": {
            "image/png": "[encoded data removed]",
            "text/plain": [
              "<Figure size 440x432 with 1 Axes>"
            ]
          },
          "metadata": {
            "tags": [],
            "needs_background": "light"
          }
        },
        {
          "output_type": "stream",
          "text": [
            "[9.84368741e-01 1.06787423e-02 3.89799621e-03 9.68116944e-04\n",
            " 7.26578639e-05 7.85490421e-06 3.92745210e-06 0.00000000e+00\n",
            " 0.00000000e+00 1.96372605e-06]\n",
            "[    0.   2125.3  4250.6  6375.9  8501.2 10626.5 12751.8 14877.1 17002.4\n",
            " 19127.7 21253. ]\n"
          ],
          "name": "stdout"
        },
        {
          "output_type": "display_data",
          "data": {
            "image/png": "[encoded data removed]",
            "text/plain": [
              "<Figure size 432x288 with 1 Axes>"
            ]
          },
          "metadata": {
            "tags": [],
            "needs_background": "light"
          }
        }
      ]
    },
    {
      "cell_type": "code",
      "metadata": {
        "id": "1QMTScV-bsxE"
      },
      "source": [
        "\n",
        "\n"
      ],
      "execution_count": 17,
      "outputs": []
    },
    {
      "cell_type": "markdown",
      "metadata": {
        "id": "vsnsuxzJfRRc"
      },
      "source": [
        "### **Observation**\n",
        "- the above plot are pdf and cdf of up_votes\n",
        "- pdf able to explain the density of books are maximum near zero or smaller values \n",
        "- 99.7% of books recieve ratings less than equal to 7500\n",
        "- this cdf  able to explain that some books receive the number of up_votes greater than 10k which clearly explains the variation in our data "
      ]
    },
    {
      "cell_type": "code",
      "metadata": {
        "colab": {
          "base_uri": "https://localhost:8080/",
          "height": 407
        },
        "id": "kzZwyXbacsN8",
        "outputId": "f14f9258-9a1d-42f4-f390-4a25361eb255"
      },
      "source": [
        "result[result['up_votes']>=7500]"
      ],
      "execution_count": 18,
      "outputs": [
        {
          "output_type": "execute_result",
          "data": {
            "text/html": [
              "<div>\n",
              "<style scoped>\n",
              "    .dataframe tbody tr th:only-of-type {\n",
              "        vertical-align: middle;\n",
              "    }\n",
              "\n",
              "    .dataframe tbody tr th {\n",
              "        vertical-align: top;\n",
              "    }\n",
              "\n",
              "    .dataframe thead th {\n",
              "        text-align: right;\n",
              "    }\n",
              "</style>\n",
              "<table border=\"1\" class=\"dataframe\">\n",
              "  <thead>\n",
              "    <tr style=\"text-align: right;\">\n",
              "      <th></th>\n",
              "      <th>time_created</th>\n",
              "      <th>date_created</th>\n",
              "      <th>up_votes</th>\n",
              "      <th>down_votes</th>\n",
              "      <th>title</th>\n",
              "      <th>over_18</th>\n",
              "      <th>author</th>\n",
              "      <th>category</th>\n",
              "    </tr>\n",
              "  </thead>\n",
              "  <tbody>\n",
              "    <tr>\n",
              "      <th>187603</th>\n",
              "      <td>1370655122</td>\n",
              "      <td>2013-06-08</td>\n",
              "      <td>10159</td>\n",
              "      <td>0</td>\n",
              "      <td>What we have... is... concrete proof of U.S.-...</td>\n",
              "      <td>False</td>\n",
              "      <td>dantesinfer</td>\n",
              "      <td>worldnews</td>\n",
              "    </tr>\n",
              "    <tr>\n",
              "      <th>206253</th>\n",
              "      <td>1377038626</td>\n",
              "      <td>2013-08-20</td>\n",
              "      <td>7700</td>\n",
              "      <td>0</td>\n",
              "      <td>British PM David Cameron told a member of his ...</td>\n",
              "      <td>False</td>\n",
              "      <td>waggawagga</td>\n",
              "      <td>worldnews</td>\n",
              "    </tr>\n",
              "    <tr>\n",
              "      <th>326108</th>\n",
              "      <td>1417646102</td>\n",
              "      <td>2014-12-03</td>\n",
              "      <td>9303</td>\n",
              "      <td>0</td>\n",
              "      <td>NASA officially announces Manned Mars Mission,...</td>\n",
              "      <td>False</td>\n",
              "      <td>Herman999999999</td>\n",
              "      <td>worldnews</td>\n",
              "    </tr>\n",
              "    <tr>\n",
              "      <th>329371</th>\n",
              "      <td>1418827992</td>\n",
              "      <td>2014-12-17</td>\n",
              "      <td>8187</td>\n",
              "      <td>0</td>\n",
              "      <td>The United States will normalize diplomatic re...</td>\n",
              "      <td>False</td>\n",
              "      <td>i_love_fsa</td>\n",
              "      <td>worldnews</td>\n",
              "    </tr>\n",
              "    <tr>\n",
              "      <th>352692</th>\n",
              "      <td>1426242655</td>\n",
              "      <td>2015-03-13</td>\n",
              "      <td>8781</td>\n",
              "      <td>0</td>\n",
              "      <td>German anti-vaccer wagers € 100,000 to anyone ...</td>\n",
              "      <td>False</td>\n",
              "      <td>bendertheoffender22</td>\n",
              "      <td>worldnews</td>\n",
              "    </tr>\n",
              "    <tr>\n",
              "      <th>...</th>\n",
              "      <td>...</td>\n",
              "      <td>...</td>\n",
              "      <td>...</td>\n",
              "      <td>...</td>\n",
              "      <td>...</td>\n",
              "      <td>...</td>\n",
              "      <td>...</td>\n",
              "      <td>...</td>\n",
              "    </tr>\n",
              "    <tr>\n",
              "      <th>506536</th>\n",
              "      <td>1478907186</td>\n",
              "      <td>2016-11-11</td>\n",
              "      <td>8281</td>\n",
              "      <td>0</td>\n",
              "      <td>President Kuczynski: Peru to plant 2 million h...</td>\n",
              "      <td>False</td>\n",
              "      <td>so_mindfucked</td>\n",
              "      <td>worldnews</td>\n",
              "    </tr>\n",
              "    <tr>\n",
              "      <th>506857</th>\n",
              "      <td>1479079701</td>\n",
              "      <td>2016-11-13</td>\n",
              "      <td>8132</td>\n",
              "      <td>0</td>\n",
              "      <td>China, Japan, Russia, &amp; South Korea have just ...</td>\n",
              "      <td>False</td>\n",
              "      <td>dustofoblivion123</td>\n",
              "      <td>worldnews</td>\n",
              "    </tr>\n",
              "    <tr>\n",
              "      <th>507297</th>\n",
              "      <td>1479214734</td>\n",
              "      <td>2016-11-15</td>\n",
              "      <td>7861</td>\n",
              "      <td>0</td>\n",
              "      <td>Google will soon ban fake news sites from usin...</td>\n",
              "      <td>False</td>\n",
              "      <td>anutensil</td>\n",
              "      <td>worldnews</td>\n",
              "    </tr>\n",
              "    <tr>\n",
              "      <th>508164</th>\n",
              "      <td>1479428970</td>\n",
              "      <td>2016-11-18</td>\n",
              "      <td>7549</td>\n",
              "      <td>0</td>\n",
              "      <td>Slovenia adds water to constitution as fundame...</td>\n",
              "      <td>False</td>\n",
              "      <td>HeroAntagonist</td>\n",
              "      <td>worldnews</td>\n",
              "    </tr>\n",
              "    <tr>\n",
              "      <th>508540</th>\n",
              "      <td>1479560403</td>\n",
              "      <td>2016-11-19</td>\n",
              "      <td>7561</td>\n",
              "      <td>0</td>\n",
              "      <td>Extreme surveillance  becomes UK law with bar...</td>\n",
              "      <td>False</td>\n",
              "      <td>Thoughtful_Ninja</td>\n",
              "      <td>worldnews</td>\n",
              "    </tr>\n",
              "  </tbody>\n",
              "</table>\n",
              "<p>137 rows × 8 columns</p>\n",
              "</div>"
            ],
            "text/plain": [
              "        time_created date_created  ...               author   category\n",
              "187603    1370655122   2013-06-08  ...          dantesinfer  worldnews\n",
              "206253    1377038626   2013-08-20  ...           waggawagga  worldnews\n",
              "326108    1417646102   2014-12-03  ...      Herman999999999  worldnews\n",
              "329371    1418827992   2014-12-17  ...           i_love_fsa  worldnews\n",
              "352692    1426242655   2015-03-13  ...  bendertheoffender22  worldnews\n",
              "...              ...          ...  ...                  ...        ...\n",
              "506536    1478907186   2016-11-11  ...        so_mindfucked  worldnews\n",
              "506857    1479079701   2016-11-13  ...    dustofoblivion123  worldnews\n",
              "507297    1479214734   2016-11-15  ...            anutensil  worldnews\n",
              "508164    1479428970   2016-11-18  ...       HeroAntagonist  worldnews\n",
              "508540    1479560403   2016-11-19  ...     Thoughtful_Ninja  worldnews\n",
              "\n",
              "[137 rows x 8 columns]"
            ]
          },
          "metadata": {
            "tags": []
          },
          "execution_count": 18
        }
      ]
    },
    {
      "cell_type": "markdown",
      "metadata": {
        "id": "thN7JM7emiVu"
      },
      "source": [
        ""
      ]
    },
    {
      "cell_type": "code",
      "metadata": {
        "colab": {
          "base_uri": "https://localhost:8080/"
        },
        "id": "XJzASH4-nlqZ",
        "outputId": "fd055fab-5290-4545-da74-bfc0a5d3c85a"
      },
      "source": [
        "result.shape"
      ],
      "execution_count": 19,
      "outputs": [
        {
          "output_type": "execute_result",
          "data": {
            "text/plain": [
              "(509236, 8)"
            ]
          },
          "metadata": {
            "tags": []
          },
          "execution_count": 19
        }
      ]
    },
    {
      "cell_type": "code",
      "metadata": {
        "colab": {
          "base_uri": "https://localhost:8080/"
        },
        "id": "cH_IwWj4mfQ7",
        "outputId": "bf925230-1cc5-42a6-a787-7e6019f6d177"
      },
      "source": [
        "print(\"% of data less thsn rating 7500= \" , (1-(result[result['up_votes']>=7500].shape[0]/result.shape[0]))*100)\n",
        "\n",
        "print(\"% of data less thsn rating 10000= \" , (1-(result[result['up_votes']>=10000].shape[0]/result.shape[0]))*100)\n",
        "\n",
        "print(\"% of data less thsn rating 22000= \" , (1-(result[result['up_votes']>=22000].shape[0]/result.shape[0]))*100)\n",
        "print(\"maximum ratting receive =\" ,result[\"up_votes\"].max())"
      ],
      "execution_count": 20,
      "outputs": [
        {
          "output_type": "stream",
          "text": [
            "% of data less thsn rating 7500=  99.97309695308265\n",
            "% of data less thsn rating 10000=  99.99705441092146\n",
            "% of data less thsn rating 22000=  100.0\n",
            "maximum ratting receive = 21253\n"
          ],
          "name": "stdout"
        }
      ]
    },
    {
      "cell_type": "markdown",
      "metadata": {
        "id": "_43QO3luol5h"
      },
      "source": [
        "### **Observation**\n",
        "- total 137 records available which have rattings greater than 7500\n",
        "- which is 0.01 % of total data\n",
        "- % of data less thsn rating 7500=  99.97309695308265\n",
        "- % of data less thsn rating 10000=  99.99705441092146\n",
        "- this was able to explain by cdf roughly \n",
        "- % of data less thsn rating 22000=  100.0\n",
        "- that is precisely correct as maximum ratting receive by any book is  = 21253\n"
      ]
    },
    {
      "cell_type": "markdown",
      "metadata": {
        "id": "g67s_WkYY0uO"
      },
      "source": [
        "### **Date and time**"
      ]
    },
    {
      "cell_type": "code",
      "metadata": {
        "colab": {
          "base_uri": "https://localhost:8080/",
          "height": 198
        },
        "id": "zy5tn9nWnEZb",
        "outputId": "4f48588a-f54a-422b-89aa-46505debb841"
      },
      "source": [
        "import datetime\n",
        "# year\n",
        "# month \n",
        "# day\n",
        "#efficient way to extract year from string format date\n",
        "result['year'] = pd.DatetimeIndex(result['date_created']).year\n",
        "result['month'] = pd.DatetimeIndex(result['date_created']).month\n",
        "result['day'] = pd.DatetimeIndex(result['date_created']).day\n",
        "result.head()"
      ],
      "execution_count": 21,
      "outputs": [
        {
          "output_type": "execute_result",
          "data": {
            "text/html": [
              "<div>\n",
              "<style scoped>\n",
              "    .dataframe tbody tr th:only-of-type {\n",
              "        vertical-align: middle;\n",
              "    }\n",
              "\n",
              "    .dataframe tbody tr th {\n",
              "        vertical-align: top;\n",
              "    }\n",
              "\n",
              "    .dataframe thead th {\n",
              "        text-align: right;\n",
              "    }\n",
              "</style>\n",
              "<table border=\"1\" class=\"dataframe\">\n",
              "  <thead>\n",
              "    <tr style=\"text-align: right;\">\n",
              "      <th></th>\n",
              "      <th>time_created</th>\n",
              "      <th>date_created</th>\n",
              "      <th>up_votes</th>\n",
              "      <th>down_votes</th>\n",
              "      <th>title</th>\n",
              "      <th>over_18</th>\n",
              "      <th>author</th>\n",
              "      <th>category</th>\n",
              "      <th>year</th>\n",
              "      <th>month</th>\n",
              "      <th>day</th>\n",
              "    </tr>\n",
              "  </thead>\n",
              "  <tbody>\n",
              "    <tr>\n",
              "      <th>0</th>\n",
              "      <td>1201232046</td>\n",
              "      <td>2008-01-25</td>\n",
              "      <td>3</td>\n",
              "      <td>0</td>\n",
              "      <td>Scores killed in Pakistan clashes</td>\n",
              "      <td>False</td>\n",
              "      <td>polar</td>\n",
              "      <td>worldnews</td>\n",
              "      <td>2008</td>\n",
              "      <td>1</td>\n",
              "      <td>25</td>\n",
              "    </tr>\n",
              "    <tr>\n",
              "      <th>1</th>\n",
              "      <td>1201232075</td>\n",
              "      <td>2008-01-25</td>\n",
              "      <td>2</td>\n",
              "      <td>0</td>\n",
              "      <td>Japan resumes refuelling mission</td>\n",
              "      <td>False</td>\n",
              "      <td>polar</td>\n",
              "      <td>worldnews</td>\n",
              "      <td>2008</td>\n",
              "      <td>1</td>\n",
              "      <td>25</td>\n",
              "    </tr>\n",
              "    <tr>\n",
              "      <th>2</th>\n",
              "      <td>1201232523</td>\n",
              "      <td>2008-01-25</td>\n",
              "      <td>3</td>\n",
              "      <td>0</td>\n",
              "      <td>US presses Egypt on Gaza border</td>\n",
              "      <td>False</td>\n",
              "      <td>polar</td>\n",
              "      <td>worldnews</td>\n",
              "      <td>2008</td>\n",
              "      <td>1</td>\n",
              "      <td>25</td>\n",
              "    </tr>\n",
              "    <tr>\n",
              "      <th>3</th>\n",
              "      <td>1201233290</td>\n",
              "      <td>2008-01-25</td>\n",
              "      <td>1</td>\n",
              "      <td>0</td>\n",
              "      <td>Jump-start economy: Give health care to all</td>\n",
              "      <td>False</td>\n",
              "      <td>fadi420</td>\n",
              "      <td>worldnews</td>\n",
              "      <td>2008</td>\n",
              "      <td>1</td>\n",
              "      <td>25</td>\n",
              "    </tr>\n",
              "    <tr>\n",
              "      <th>4</th>\n",
              "      <td>1201274720</td>\n",
              "      <td>2008-01-25</td>\n",
              "      <td>4</td>\n",
              "      <td>0</td>\n",
              "      <td>Council of Europe bashes EU&amp;UN terror blacklist</td>\n",
              "      <td>False</td>\n",
              "      <td>mhermans</td>\n",
              "      <td>worldnews</td>\n",
              "      <td>2008</td>\n",
              "      <td>1</td>\n",
              "      <td>25</td>\n",
              "    </tr>\n",
              "  </tbody>\n",
              "</table>\n",
              "</div>"
            ],
            "text/plain": [
              "   time_created date_created  up_votes  down_votes  ...   category  year month day\n",
              "0    1201232046   2008-01-25         3           0  ...  worldnews  2008     1  25\n",
              "1    1201232075   2008-01-25         2           0  ...  worldnews  2008     1  25\n",
              "2    1201232523   2008-01-25         3           0  ...  worldnews  2008     1  25\n",
              "3    1201233290   2008-01-25         1           0  ...  worldnews  2008     1  25\n",
              "4    1201274720   2008-01-25         4           0  ...  worldnews  2008     1  25\n",
              "\n",
              "[5 rows x 11 columns]"
            ]
          },
          "metadata": {
            "tags": []
          },
          "execution_count": 21
        }
      ]
    },
    {
      "cell_type": "code",
      "metadata": {
        "colab": {
          "base_uri": "https://localhost:8080/"
        },
        "id": "Ug4qEeLCs-27",
        "outputId": "5d9db79e-0c27-4b15-bfcc-700eaad47bbc"
      },
      "source": [
        "result['year'].value_counts()"
      ],
      "execution_count": 22,
      "outputs": [
        {
          "output_type": "execute_result",
          "data": {
            "text/plain": [
              "2015    94621\n",
              "2014    92030\n",
              "2013    88231\n",
              "2016    81892\n",
              "2012    42643\n",
              "2011    38886\n",
              "2009    25115\n",
              "2010    23313\n",
              "2008    22505\n",
              "Name: year, dtype: int64"
            ]
          },
          "metadata": {
            "tags": []
          },
          "execution_count": 22
        }
      ]
    },
    {
      "cell_type": "code",
      "metadata": {
        "id": "T-L3s0qytj6B"
      },
      "source": [
        ""
      ],
      "execution_count": 22,
      "outputs": []
    },
    {
      "cell_type": "markdown",
      "metadata": {
        "id": "26GeaBOIZLid"
      },
      "source": [
        "### **number of book publish or written in  year**"
      ]
    },
    {
      "cell_type": "code",
      "metadata": {
        "colab": {
          "base_uri": "https://localhost:8080/",
          "height": 532
        },
        "id": "cAPvkZp8uLCI",
        "outputId": "41c70b5c-4b45-464b-9d35-fcb6eef2a638"
      },
      "source": [
        "#How to calculate number of words in a string in DataFrame: https://stackoverflow.com/a/37483537/4084039\n",
        "# code used from aaic assignment donorchoose\n",
        "word_count = result['year'].value_counts()\n",
        "\n",
        "word_dict = dict(word_count)\n",
        "word_dict = dict(sorted(word_dict.items(), key=lambda kv: kv[1]))\n",
        "ind = np.arange(len(word_dict))\n",
        "plt.figure(figsize=(20,5))\n",
        "p1 = plt.bar(ind, list(word_dict.values()))\n",
        "plt.ylabel('Number of books')\n",
        "plt.xlabel('year')\n",
        "plt.title('number of book in a year')\n",
        "plt.xticks(ind, list(word_dict.keys()))\n",
        "plt.grid();\n",
        "plt.show()\n",
        "\n",
        "\n",
        "print(word_count)\n"
      ],
      "execution_count": 23,
      "outputs": [
        {
          "output_type": "display_data",
          "data": {
            "image/png": "[encoded data removed]",
            "text/plain": [
              "<Figure size 1440x360 with 1 Axes>"
            ]
          },
          "metadata": {
            "tags": [],
            "needs_background": "light"
          }
        },
        {
          "output_type": "stream",
          "text": [
            "2015    94621\n",
            "2014    92030\n",
            "2013    88231\n",
            "2016    81892\n",
            "2012    42643\n",
            "2011    38886\n",
            "2009    25115\n",
            "2010    23313\n",
            "2008    22505\n",
            "Name: year, dtype: int64\n"
          ],
          "name": "stdout"
        }
      ]
    },
    {
      "cell_type": "markdown",
      "metadata": {
        "id": "wWcwK-wBvLTU"
      },
      "source": [
        "### **Observation**\n",
        "- the above data and plot explains the year and the number of books in that year\n",
        "- clearly 2015 have maximum number of published\n",
        "- the year ranges from 2008 to 2016 \n"
      ]
    },
    {
      "cell_type": "code",
      "metadata": {
        "id": "F0SeRSoXuo8e"
      },
      "source": [
        ""
      ],
      "execution_count": 23,
      "outputs": []
    },
    {
      "cell_type": "markdown",
      "metadata": {
        "id": "Vh9jZgNNZUMu"
      },
      "source": [
        "### **over_18**"
      ]
    },
    {
      "cell_type": "code",
      "metadata": {
        "colab": {
          "base_uri": "https://localhost:8080/"
        },
        "id": "DR3J8O9Dwx_z",
        "outputId": "50991ed2-21b4-40ef-da04-4128acab2aa8"
      },
      "source": [
        "print(\"count of books which are for above 18 and for less than 18 are \")\n",
        "print(result[\"over_18\"].value_counts())"
      ],
      "execution_count": 24,
      "outputs": [
        {
          "output_type": "stream",
          "text": [
            "count of books which are for above 18 and for less than 18 are \n",
            "False    508916\n",
            "True        320\n",
            "Name: over_18, dtype: int64\n"
          ],
          "name": "stdout"
        }
      ]
    },
    {
      "cell_type": "markdown",
      "metadata": {
        "id": "8oi0jZY6xY_t"
      },
      "source": [
        "### **Observation**\n",
        "- clearly observed that data consist of books for below 18 are significantly higher than above 18\n",
        "- below 18 number of books = 508916\n",
        "- above 18 number of books = 320 "
      ]
    },
    {
      "cell_type": "code",
      "metadata": {
        "colab": {
          "base_uri": "https://localhost:8080/",
          "height": 745
        },
        "id": "8HoUoMifxLID",
        "outputId": "423fd668-09b9-4133-b848-a407d78c730f"
      },
      "source": [
        "sns.FacetGrid(result,hue=\"over_18\",size=10) \\\n",
        "   .map(sns.distplot, \"month\") \\\n",
        "   .add_legend();\n",
        "plt.title('pdf and histogram of log_price with shipping is paid or not')\n",
        "plt.grid();\n",
        "plt.show();"
      ],
      "execution_count": 25,
      "outputs": [
        {
          "output_type": "display_data",
          "data": {
            "image/png": "[encoded data removed]",
            "text/plain": [
              "<Figure size 781.25x720 with 1 Axes>"
            ]
          },
          "metadata": {
            "tags": [],
            "needs_background": "light"
          }
        }
      ]
    },
    {
      "cell_type": "markdown",
      "metadata": {
        "id": "48osFWgK1LRK"
      },
      "source": [
        "### **Observation**\n",
        "- the above is pdf and histogram of months and the number of books which are above and below 18 in that month\n",
        "- books for below 18 are more frequent compare to above 18\n",
        "- and nothing can be observed except the first point lets break the dataset into above and below 18 and observed them separately "
      ]
    },
    {
      "cell_type": "code",
      "metadata": {
        "id": "WkJTmheUzHeJ"
      },
      "source": [
        "c=result[result['over_18']==False]# below 18\n",
        "d=result[result['over_18']==True]# above 18"
      ],
      "execution_count": 26,
      "outputs": []
    },
    {
      "cell_type": "code",
      "metadata": {
        "colab": {
          "base_uri": "https://localhost:8080/",
          "height": 407
        },
        "id": "iCAKVrpS0HEf",
        "outputId": "5ef21505-df17-48d8-98ef-beaf71d256bc"
      },
      "source": [
        "d"
      ],
      "execution_count": 27,
      "outputs": [
        {
          "output_type": "execute_result",
          "data": {
            "text/html": [
              "<div>\n",
              "<style scoped>\n",
              "    .dataframe tbody tr th:only-of-type {\n",
              "        vertical-align: middle;\n",
              "    }\n",
              "\n",
              "    .dataframe tbody tr th {\n",
              "        vertical-align: top;\n",
              "    }\n",
              "\n",
              "    .dataframe thead th {\n",
              "        text-align: right;\n",
              "    }\n",
              "</style>\n",
              "<table border=\"1\" class=\"dataframe\">\n",
              "  <thead>\n",
              "    <tr style=\"text-align: right;\">\n",
              "      <th></th>\n",
              "      <th>time_created</th>\n",
              "      <th>date_created</th>\n",
              "      <th>up_votes</th>\n",
              "      <th>down_votes</th>\n",
              "      <th>title</th>\n",
              "      <th>over_18</th>\n",
              "      <th>author</th>\n",
              "      <th>category</th>\n",
              "      <th>year</th>\n",
              "      <th>month</th>\n",
              "      <th>day</th>\n",
              "    </tr>\n",
              "  </thead>\n",
              "  <tbody>\n",
              "    <tr>\n",
              "      <th>1885</th>\n",
              "      <td>1206381438</td>\n",
              "      <td>2008-03-24</td>\n",
              "      <td>189</td>\n",
              "      <td>0</td>\n",
              "      <td>Pics from the Tibetan protests - more graphic ...</td>\n",
              "      <td>True</td>\n",
              "      <td>pressed</td>\n",
              "      <td>worldnews</td>\n",
              "      <td>2008</td>\n",
              "      <td>3</td>\n",
              "      <td>24</td>\n",
              "    </tr>\n",
              "    <tr>\n",
              "      <th>6721</th>\n",
              "      <td>1211138718</td>\n",
              "      <td>2008-05-18</td>\n",
              "      <td>5</td>\n",
              "      <td>0</td>\n",
              "      <td>MI5 linked to Max Mosley’s Nazi-style, sadomas...</td>\n",
              "      <td>True</td>\n",
              "      <td>alllie</td>\n",
              "      <td>worldnews</td>\n",
              "      <td>2008</td>\n",
              "      <td>5</td>\n",
              "      <td>18</td>\n",
              "    </tr>\n",
              "    <tr>\n",
              "      <th>8414</th>\n",
              "      <td>1212694925</td>\n",
              "      <td>2008-06-05</td>\n",
              "      <td>0</td>\n",
              "      <td>0</td>\n",
              "      <td>Tabloid Horrifies Germany: Poland s Yellow Pre...</td>\n",
              "      <td>True</td>\n",
              "      <td>stesch</td>\n",
              "      <td>worldnews</td>\n",
              "      <td>2008</td>\n",
              "      <td>6</td>\n",
              "      <td>5</td>\n",
              "    </tr>\n",
              "    <tr>\n",
              "      <th>12163</th>\n",
              "      <td>1216672016</td>\n",
              "      <td>2008-07-21</td>\n",
              "      <td>0</td>\n",
              "      <td>0</td>\n",
              "      <td>Love Parade Dortmund: Techno Festival Breaks R...</td>\n",
              "      <td>True</td>\n",
              "      <td>stesch</td>\n",
              "      <td>worldnews</td>\n",
              "      <td>2008</td>\n",
              "      <td>7</td>\n",
              "      <td>21</td>\n",
              "    </tr>\n",
              "    <tr>\n",
              "      <th>12699</th>\n",
              "      <td>1217381380</td>\n",
              "      <td>2008-07-30</td>\n",
              "      <td>5</td>\n",
              "      <td>0</td>\n",
              "      <td>IDF kills young Palestinian boy. Potentially N...</td>\n",
              "      <td>True</td>\n",
              "      <td>cup</td>\n",
              "      <td>worldnews</td>\n",
              "      <td>2008</td>\n",
              "      <td>7</td>\n",
              "      <td>30</td>\n",
              "    </tr>\n",
              "    <tr>\n",
              "      <th>...</th>\n",
              "      <td>...</td>\n",
              "      <td>...</td>\n",
              "      <td>...</td>\n",
              "      <td>...</td>\n",
              "      <td>...</td>\n",
              "      <td>...</td>\n",
              "      <td>...</td>\n",
              "      <td>...</td>\n",
              "      <td>...</td>\n",
              "      <td>...</td>\n",
              "      <td>...</td>\n",
              "    </tr>\n",
              "    <tr>\n",
              "      <th>503776</th>\n",
              "      <td>1477889966</td>\n",
              "      <td>2016-10-31</td>\n",
              "      <td>4</td>\n",
              "      <td>0</td>\n",
              "      <td>Latest Italian Earthquake Devastates Medieval ...</td>\n",
              "      <td>True</td>\n",
              "      <td>pixelinthe</td>\n",
              "      <td>worldnews</td>\n",
              "      <td>2016</td>\n",
              "      <td>10</td>\n",
              "      <td>31</td>\n",
              "    </tr>\n",
              "    <tr>\n",
              "      <th>508067</th>\n",
              "      <td>1479400229</td>\n",
              "      <td>2016-11-17</td>\n",
              "      <td>12</td>\n",
              "      <td>0</td>\n",
              "      <td>ISIS Release Video Showing Melbourne As A Poss...</td>\n",
              "      <td>True</td>\n",
              "      <td>halacska</td>\n",
              "      <td>worldnews</td>\n",
              "      <td>2016</td>\n",
              "      <td>11</td>\n",
              "      <td>17</td>\n",
              "    </tr>\n",
              "    <tr>\n",
              "      <th>508176</th>\n",
              "      <td>1479434681</td>\n",
              "      <td>2016-11-18</td>\n",
              "      <td>0</td>\n",
              "      <td>0</td>\n",
              "      <td>Animal welfare activists have released footage...</td>\n",
              "      <td>True</td>\n",
              "      <td>NinjaDiscoJesus</td>\n",
              "      <td>worldnews</td>\n",
              "      <td>2016</td>\n",
              "      <td>11</td>\n",
              "      <td>18</td>\n",
              "    </tr>\n",
              "    <tr>\n",
              "      <th>508376</th>\n",
              "      <td>1479492875</td>\n",
              "      <td>2016-11-18</td>\n",
              "      <td>6</td>\n",
              "      <td>0</td>\n",
              "      <td>Jungle Justice : Public lynching of a street ...</td>\n",
              "      <td>True</td>\n",
              "      <td>avivi_</td>\n",
              "      <td>worldnews</td>\n",
              "      <td>2016</td>\n",
              "      <td>11</td>\n",
              "      <td>18</td>\n",
              "    </tr>\n",
              "    <tr>\n",
              "      <th>508706</th>\n",
              "      <td>1479641575</td>\n",
              "      <td>2016-11-20</td>\n",
              "      <td>0</td>\n",
              "      <td>0</td>\n",
              "      <td>[NSFW] Teenage boy run over by  Iraqi army tan...</td>\n",
              "      <td>True</td>\n",
              "      <td>atyzer</td>\n",
              "      <td>worldnews</td>\n",
              "      <td>2016</td>\n",
              "      <td>11</td>\n",
              "      <td>20</td>\n",
              "    </tr>\n",
              "  </tbody>\n",
              "</table>\n",
              "<p>320 rows × 11 columns</p>\n",
              "</div>"
            ],
            "text/plain": [
              "        time_created date_created  up_votes  ...  year month  day\n",
              "1885      1206381438   2008-03-24       189  ...  2008     3   24\n",
              "6721      1211138718   2008-05-18         5  ...  2008     5   18\n",
              "8414      1212694925   2008-06-05         0  ...  2008     6    5\n",
              "12163     1216672016   2008-07-21         0  ...  2008     7   21\n",
              "12699     1217381380   2008-07-30         5  ...  2008     7   30\n",
              "...              ...          ...       ...  ...   ...   ...  ...\n",
              "503776    1477889966   2016-10-31         4  ...  2016    10   31\n",
              "508067    1479400229   2016-11-17        12  ...  2016    11   17\n",
              "508176    1479434681   2016-11-18         0  ...  2016    11   18\n",
              "508376    1479492875   2016-11-18         6  ...  2016    11   18\n",
              "508706    1479641575   2016-11-20         0  ...  2016    11   20\n",
              "\n",
              "[320 rows x 11 columns]"
            ]
          },
          "metadata": {
            "tags": []
          },
          "execution_count": 27
        }
      ]
    },
    {
      "cell_type": "code",
      "metadata": {
        "colab": {
          "base_uri": "https://localhost:8080/",
          "height": 683
        },
        "id": "yGHU1CH70gO5",
        "outputId": "ab0978f7-2105-41ec-b430-9d0e1e6aa8d5"
      },
      "source": [
        "# count number of bokks above and below 18 are publish in given year\n",
        "#How to calculate number of words in a string in DataFrame: https://stackoverflow.com/a/37483537/4084039\n",
        "# code used from aaic assignment donorchoose\n",
        "word_count = c['year'].value_counts()\n",
        "\n",
        "word_dict = dict(word_count)\n",
        "word_dict = dict(sorted(word_dict.items(), key=lambda kv: kv[1]))\n",
        "ind = np.arange(len(word_dict))\n",
        "plt.figure(figsize=(20,5))\n",
        "p1 = plt.bar(ind, list(word_dict.values()))\n",
        "plt.ylabel('Number of books')\n",
        "plt.xlabel('year')\n",
        "plt.title('number of book for below 18 in a year')\n",
        "plt.xticks(ind, list(word_dict.keys()))\n",
        "plt.grid();\n",
        "plt.show()\n",
        "\n",
        "\n",
        "\n",
        "#How to calculate number of words in a string in DataFrame: https://stackoverflow.com/a/37483537/4084039\n",
        "# code used from aaic assignment donorchoose\n",
        "word_count = d['year'].value_counts()\n",
        "\n",
        "word_dict = dict(word_count)\n",
        "word_dict = dict(sorted(word_dict.items(), key=lambda kv: kv[1]))\n",
        "ind = np.arange(len(word_dict))\n",
        "plt.figure(figsize=(20,5))\n",
        "p1 = plt.bar(ind, list(word_dict.values()))\n",
        "plt.ylabel('Number of books above')\n",
        "plt.xlabel('year')\n",
        "plt.title('number of book  for above 18 in a year')\n",
        "plt.xticks(ind, list(word_dict.keys()))\n",
        "plt.grid();\n",
        "plt.show()"
      ],
      "execution_count": 28,
      "outputs": [
        {
          "output_type": "display_data",
          "data": {
            "image/png": "[encoded data removed]",
            "text/plain": [
              "<Figure size 1440x360 with 1 Axes>"
            ]
          },
          "metadata": {
            "tags": [],
            "needs_background": "light"
          }
        },
        {
          "output_type": "display_data",
          "data": {
            "image/png": "[encoded data removed]",
            "text/plain": [
              "<Figure size 1440x360 with 1 Axes>"
            ]
          },
          "metadata": {
            "tags": [],
            "needs_background": "light"
          }
        }
      ]
    },
    {
      "cell_type": "code",
      "metadata": {
        "colab": {
          "base_uri": "https://localhost:8080/"
        },
        "id": "YrObTuupZvJP",
        "outputId": "8f6e363e-5cb9-4831-b0d9-4fcac0742712"
      },
      "source": [
        "print(\"books publish in year for below 18 \",c['year'].value_counts())\n",
        "print(\"books publish in year for below 18 \",d['year'].value_counts())"
      ],
      "execution_count": 29,
      "outputs": [
        {
          "output_type": "stream",
          "text": [
            "books publish in year for below 18  2015    94571\n",
            "2014    91988\n",
            "2013    88150\n",
            "2016    81850\n",
            "2012    42621\n",
            "2011    38826\n",
            "2009    25104\n",
            "2010    23307\n",
            "2008    22499\n",
            "Name: year, dtype: int64\n",
            "books publish in year for below 18  2013    81\n",
            "2011    60\n",
            "2015    50\n",
            "2016    42\n",
            "2014    42\n",
            "2012    22\n",
            "2009    11\n",
            "2010     6\n",
            "2008     6\n",
            "Name: year, dtype: int64\n"
          ],
          "name": "stdout"
        }
      ]
    },
    {
      "cell_type": "markdown",
      "metadata": {
        "id": "6IZtwtkg2lz3"
      },
      "source": [
        "### **Observation**\n",
        "- the above two plot is the visualization of number of books  publish in a year\n",
        "- the first plot number of books for below 18 publish in year\n",
        "-  the second plot number of books for above 18 publish in year\n",
        "- the stats were shown above how many books were publish in given year\n"
      ]
    },
    {
      "cell_type": "markdown",
      "metadata": {
        "id": "vi1ldHO_2mDe"
      },
      "source": [
        "### **author who wrote books for above 18 and below 18 readers**"
      ]
    },
    {
      "cell_type": "code",
      "metadata": {
        "colab": {
          "base_uri": "https://localhost:8080/"
        },
        "id": "sehC8rh_0RnC",
        "outputId": "0c2d91ea-6019-4d8e-e12d-464756db39f2"
      },
      "source": [
        "#How to calculate number of words in a string in DataFrame: https://stackoverflow.com/a/37483537/4084039\n",
        "# code used from aaic assignment donorchoose\n",
        "word_count1 = c['author'].value_counts()\n",
        "word_count2 = d['author'].value_counts()\n",
        "\n",
        "print(\"author publish above 18 \" , word_count1)\n",
        "print(\"************************\")\n",
        "\n",
        "print(\"author publish below 18 \" , word_count2)\n",
        "\n",
        "print(\"************************\")\n",
        "# comman author who publish both type of book\n",
        "a1=set(d['author'])\n",
        "a2=set(c['author'])\n",
        "print(\"comman author\", a1.intersection(a2))\n",
        "print(\"number of authors\", len(a1.intersection(a2)))"
      ],
      "execution_count": 30,
      "outputs": [
        {
          "output_type": "stream",
          "text": [
            "author publish above 18  davidreiss666    8897\n",
            "anutensil        5730\n",
            "DoremusJessup    5037\n",
            "maxwellhill      4023\n",
            "igeldard         4013\n",
            "                 ... \n",
            "Aiman_D             1\n",
            "zorsiK              1\n",
            "Kalidasojk          1\n",
            "Mitchell_kid        1\n",
            "The_Noob_OP         1\n",
            "Name: author, Length: 85754, dtype: int64\n",
            "************************\n",
            "author publish below 18  readerseven          6\n",
            "ScotiaTide           4\n",
            "Rocker13666          4\n",
            "SyrianGuy            4\n",
            "orangeflower2015     3\n",
            "                    ..\n",
            "Another-Chance       1\n",
            "StormXMX             1\n",
            "TheFrontPageSucks    1\n",
            "PoopyTitties         1\n",
            "natural_capital      1\n",
            "Name: author, Length: 285, dtype: int64\n",
            "************************\n",
            "comman author {'yellowcakewalk', 'schar', 'CallmeishmaelSancho', 'crea7or', 'IsleCook', 'blinkergoesleft', 'jewiscool', 'cavehobbit', 'SyrianGuy', 'Charlatan2', 'anthonykantara', 'lovefordoge', 'CratusRedditus', 'hcadvkd', 'downtown14', 'EntreRios', 'NiceGuyJoe', 'unholyslacker', 'LPanaflex', 'cgray94', 'Ms_Temagami', 'MadisonWisconsin', 'pwoody11', 'marx2k', 'al_aqsa_', 'ScotiaTide', 'susiew0ng', 'KickingItOldSchool', 'NinjaDiscoJesus', 'moses_herzog', 'readerseven', 'zorbix', 'AshCairo', 'dat5109', 'Gargatua13013', 'Justsin7', 'm4caque', 'gAlienLifeform', 'uptodatepronto', 'Mictlantecuhtli', 'Sxtus', 'BibleBeltAtheist', 'mepper', 'MyfanwyTiffany', 'malted', 'BeeGravy', 'jason-samfield', 'AllenDono', 'Marlboro_Country_', 'SouIHunter', 'GatorNelson', 'cactusrex', 'Medford', 'jojoplay', 'HalpTheFan', 'rytis', 'n0k1man', 'reddits_lead_pervert', 'Barney21', 'Aron_Sam', 'feldamis', 'ferry888', 'elonc', 'Fuck_Terrorism', 'JB_UK', 'afaraj', 'Epicbulb', 't4ng', 'Theschubs', 'imtriing', 'straylittlelambs', 'Radico87', 'love_is_life', 'stankmanly', '1632', 'monkeypowah', 'spreadlove', 'thewiseparrot', 'Barack-OJimmy', 'illegalmorality', 'Puffin_fan', 'jangaliboy', 'killerb54', 'Piscator629', 'OneClassyBloke', 's0m3f00l', 'mr_triple_double', 'zeniath', 'skundz', 'David1368', 'URPerfect', 'Naruhodo', 'dvzhou', 'TRUTHINESS23', 'yumcentral', 'FlowersOfSodom', 'jollyhoax', 'Man-alive', 'StealthBlue', 'Idontknowwhour1', '_Perfectionist', 'Seefor', 'rawmas02', '0l01o1ol0', 'JahanzaibRao', 'Ijustdoeyes', '99red', 'Thealmightyguy', 'dberis', 'thewhitedeath', 'majorwtf', 'mandalayt', 'armeniapedia', 'UlyssesOntusado', 'pixelinthe', 'raptorjeebus1911', 'MonsieurAnon', 'ShakoWasAngry', 'HayDoggie', 'PoopyTitties', 'AtheianLibertarist', 'brothamo', 'StormXMX', 'Another-Chance', 'mynameisidiot', 'bowlis', 'atyzer', 'WalkTheMoons', 'MrTulip', 'green_flash', 'miraoister', 'blkswann', 'Rocker13666', 'accountt1234', 'Jimoh8002', 'C-G-B_Spender', 'DisWastingMyTime', 'Taqwacore', 'arabsandals', 'qgyh2', 'lagazza', 'tbepyt', 'bustr4', 'desitexan', 'dt_vibe', 'Communal_Teachings', 'PanAfrica', 'Ben_Connor', 'khthon', 'zifka', 'dazzler_valentine', 'AnnArchist', 'EndOfRedditors', 'Coderedpt', 'eskimobrother319', 'cup', 'bowhunter_fta', 'xdyev', 'twolf1', 'stesch', 'russianmonkey', 'schill_ya_later', 'alllie', 'leo_trotzky', 'dionysusable', 'Reilly616', 'Libertatea', 'misterAction', 'TigerTrap', 'greece666', 'zakos', 'vinng86', 'Jerem_Fr', 'uncleban', 'internet-junkie', 'IBiteYou', 'NEVERDOUBTED', 'halacska', 'nastratin', 'goliathrk', 'sandollars', 'rolmos', 'campuswale', 'ChicagoExplorer', 'anirdnas', 'bawaajigan', 'epitaph25', 'thebestonenz', 'thesalemdit', 'frenzy3', 'avivi_', 'TheGravemindx', 'pets_or_meat', 'DrSalted', 'jjlew080', 'a1chem1st', 'resiros', 'imaketrollfaces', 'orangeflower2015', 'ausreporter', 'FreddieFreelance'}\n",
            "number of authors 201\n"
          ],
          "name": "stdout"
        }
      ]
    },
    {
      "cell_type": "code",
      "metadata": {
        "colab": {
          "base_uri": "https://localhost:8080/"
        },
        "id": "RGHiq8MdQext",
        "outputId": "b54aa409-a53a-4d53-b1d2-f2304d2feed7"
      },
      "source": [
        "result[\"over_18\"] "
      ],
      "execution_count": 31,
      "outputs": [
        {
          "output_type": "execute_result",
          "data": {
            "text/plain": [
              "0         False\n",
              "1         False\n",
              "2         False\n",
              "3         False\n",
              "4         False\n",
              "          ...  \n",
              "509231    False\n",
              "509232    False\n",
              "509233    False\n",
              "509234    False\n",
              "509235    False\n",
              "Name: over_18, Length: 509236, dtype: bool"
            ]
          },
          "metadata": {
            "tags": []
          },
          "execution_count": 31
        }
      ]
    },
    {
      "cell_type": "markdown",
      "metadata": {
        "id": "x4y2vFSrSo84"
      },
      "source": [
        "### **Observation**\n",
        "- number of author who wrote both kind of book are 201\n",
        "- stats shown number of books written by authors in both types\n",
        "- clearly number of book written by author which are above 18 is more than below 18\n"
      ]
    },
    {
      "cell_type": "code",
      "metadata": {
        "id": "p4sDNDX-Rhnd"
      },
      "source": [
        "result[\"over_18\"] = result[\"over_18\"].astype(int)"
      ],
      "execution_count": 32,
      "outputs": []
    },
    {
      "cell_type": "markdown",
      "metadata": {
        "id": "1mA-SMN9VCYT"
      },
      "source": [
        "## **Feature extraction**\n",
        "- name of author and title are very important features\n",
        "- considering the output variable as above_18\n",
        " "
      ]
    },
    {
      "cell_type": "code",
      "metadata": {
        "id": "ASL0TZHnY8cq"
      },
      "source": [
        "import cv2\n",
        "import pandas as pd\n",
        "import numpy as np\n",
        "import time\n",
        "%matplotlib inline\n",
        "import warnings\n",
        "warnings.filterwarnings(\"ignore\")\n",
        "import sqlite3\n",
        "import pandas as pd\n",
        "import numpy as np\n",
        "import nltk\n",
        "import string\n",
        "import matplotlib.pyplot as plt\n",
        "import seaborn as sns\n",
        "from sklearn.feature_extraction.text import TfidfTransformer\n",
        "from sklearn.feature_extraction.text import TfidfVectorizer\n",
        "from sklearn.feature_extraction.text import CountVectorizer\n",
        "from sklearn.metrics import confusion_matrix\n",
        "from sklearn import metrics\n",
        "from sklearn.metrics import roc_curve, auc\n",
        "from nltk.stem.porter import PorterStemmer\n",
        "import re\n",
        "# Tutorial about Python regular expressions: https://pymotw.com/2/re/\n",
        "import string\n",
        "from nltk.corpus import stopwords\n",
        "from nltk.stem import PorterStemmer\n",
        "from nltk.stem.wordnet import WordNetLemmatizer\n",
        "from gensim.models import Word2Vec\n",
        "# Train your own Word2Vec model using your own text corpus\n",
        "import gensim\n",
        "from gensim.models import Word2Vec\n",
        "from gensim.models import KeyedVectors\n",
        "\n",
        "\n",
        "from gensim.models import KeyedVectors\n",
        "import pickle\n",
        "from tqdm import tqdm\n",
        "import os\n",
        "\n",
        "from collections import Counter\n",
        "from sklearn.model_selection import train_test_split\n"
      ],
      "execution_count": 33,
      "outputs": []
    },
    {
      "cell_type": "code",
      "metadata": {
        "id": "c8U1IjMHWLM7"
      },
      "source": [
        "# splitting the dataset\n",
        "Y= result['over_18']\n",
        "X_train, X_test, y_train, y_test = train_test_split(result, Y, test_size=0.33,stratify=Y)\n"
      ],
      "execution_count": 34,
      "outputs": []
    },
    {
      "cell_type": "markdown",
      "metadata": {
        "id": "LH2k22Z8bWr5"
      },
      "source": [
        "## **Author**\n",
        "###**onehot encode for author**"
      ]
    },
    {
      "cell_type": "code",
      "metadata": {
        "colab": {
          "base_uri": "https://localhost:8080/"
        },
        "id": "FtYvjSStY0i6",
        "outputId": "01a9f0e2-c0b1-4336-cf17-c93d3d75ddcc"
      },
      "source": [
        "\n",
        "'''encoding author one hot'''\n",
        "from collections import Counter\n",
        "my_counter = Counter()\n",
        "for word in X_train['author'].values:\n",
        " my_counter.update(word.split(\",\"))\n",
        "\n",
        "author_dict = dict(my_counter)\n",
        "author_dict = dict(sorted(author_dict.items(), key=lambda kv: kv[1]))\n",
        "enc2 = CountVectorizer(vocabulary=list(author_dict.keys()), lowercase=False, binary=True)\n",
        "enc2.fit(X_train['author'].values) # fit has to happen only on trai\n",
        "# we use the fitted CountVectorizer to convert the text to vector\n",
        "X_train_brand = enc2.transform(X_train['author'].values)\n",
        "#https://stackoverflow.com/questions/39303912/tfidfvectorizer-in-scikit-learn-valueerror-np\n",
        "X_test_brand = enc2.transform(X_test['author'].values)\n",
        "print(\"After vectorizations\")\n",
        "print(X_train_brand.shape, y_train.shape)\n",
        "print(X_test_brand.shape, y_test.shape)\n",
        "\n",
        "print(\"=\"*100)\n"
      ],
      "execution_count": null,
      "outputs": [
        {
          "output_type": "stream",
          "text": [
            "After vectorizations\n",
            "(341188, 66290) (341188,)\n",
            "(168048, 66290) (168048,)\n",
            "====================================================================================================\n"
          ],
          "name": "stdout"
        }
      ]
    },
    {
      "cell_type": "code",
      "metadata": {
        "id": "IbUsUcJpbtQm"
      },
      "source": [
        ""
      ],
      "execution_count": null,
      "outputs": []
    },
    {
      "cell_type": "markdown",
      "metadata": {
        "id": "0xxpTlTmb2Zf"
      },
      "source": [
        "## **Title**\n",
        "###**tfidf word to vector for title**"
      ]
    },
    {
      "cell_type": "code",
      "metadata": {
        "id": "S1D-2qqAbI-h"
      },
      "source": [
        "# Ref: AAIC Notebook for Donors' Choose\n",
        "def decontracted(sent):\n",
        "    '''\n",
        "    Task:   This Function changes common short forms like can't, won't to can not, will not resp. (Decontraction)\n",
        "            This is done to ensure uniformity in the whole text\n",
        "    Input:  Raw Text\n",
        "    Output: Decontracted Text\n",
        "    '''\n",
        "    sent = re.sub(r\"aren\\'t\", \"are not\", sent)\n",
        "    sent = re.sub(r\"didn\\'t\", \"did not\", sent)\n",
        "    sent = re.sub(r\"can\\'t\", \"can not\", sent)\n",
        "    sent = re.sub(r\"couldn\\'t\", \"could not\", sent)\n",
        "    sent = re.sub(r\"won\\'t\", \"would not\", sent)\n",
        "    sent = re.sub(r\"wouldn\\'t\", \"would not\", sent)\n",
        "    sent = re.sub(r\"haven\\'t\", \"have not\", sent)\n",
        "    sent = re.sub(r\"shouldn\\'t\", \"should not\", sent)\n",
        "    sent = re.sub(r\"doesn\\'t\", \"does not\", sent)\n",
        "    sent = re.sub(r\"don\\'t\", \"do not\", sent)\n",
        "    sent = re.sub(r\"didn\\'t\", \"did not\", sent)\n",
        "    sent = re.sub(r\"mustn\\'t\", \"must not\", sent)\n",
        "    sent = re.sub(r\"needn\\'t\", \"need not\", sent)\n",
        "    \n",
        "    return sent\n",
        "\n",
        "X_train['title'] = X_train['title'].apply(lambda x : decontracted(x))\n",
        "X_test['title'] = X_test['title'].apply(lambda x : decontracted(x))"
      ],
      "execution_count": null,
      "outputs": []
    },
    {
      "cell_type": "code",
      "metadata": {
        "id": "uRBo01fZcwIL"
      },
      "source": [
        "# loading weights for fasttext\n",
        "#model_fasttext = KeyedVectors.load_word2vec_format('/content/drive/My Drive/new/wiki-news-300d-1M.vec', binary=False)\n",
        "# stronging variables into pickle files python: http://www.jessicayung.com/how-to-use-pickle-to-save-and-load-variables-in-python/\n",
        "# make sure you have the glove_vectors file\n",
        "with open('drive/My Drive/new/glove_vectors', 'rb') as f:\n",
        "    model_fasttext = pickle.load(f)\n",
        "    glove_words =  set(model_fasttext.keys())"
      ],
      "execution_count": null,
      "outputs": []
    },
    {
      "cell_type": "code",
      "metadata": {
        "colab": {
          "base_uri": "https://localhost:8080/"
        },
        "id": "7hccPF_LbKNE",
        "outputId": "b026d865-5916-43d7-f937-19177481dc97"
      },
      "source": [
        "# code used from aaic assignment donorchoose\n",
        "# S = [\"abc def pqr\", \"def def def abc\", \"pqr pqr def\"]\n",
        "'''title'''\n",
        "tfidf_model = TfidfVectorizer()\n",
        "tfidf_model.fit(X_train['title'])\n",
        "# we are converting a dictionary with word as a key, and the idf as a value\n",
        "dictionary = dict(zip(tfidf_model.get_feature_names(), list(tfidf_model.idf_)))\n",
        "tfidf_words = set(tfidf_model.get_feature_names())\n",
        "# code used from aaic assignment donorchoose\n",
        "# compute average word2vec for each review.\n",
        "'''tfidf w2vect item_description train'''\n",
        "tfidf_w2v_vectors_descr_tr = []; # the avg-w2v for each sentence/review is stored in this list\n",
        "for sentence in tqdm(X_train['title']): # for each review/sentence\n",
        "    vector = np.zeros(300) # as word vectors are of zero length\n",
        "    tf_idf_weight =0; # num of words with a valid vector in the sentence/review\n",
        "    for word in sentence.split(): # for each word in a review/sentence\n",
        "        if (word in glove_words) and (word in tfidf_words):\n",
        "            vec = model_fasttext[word] # getting the vector for each word\n",
        "            # here we are multiplying idf value(dictionary[word]) and the tf value((sentence.count(word)/len(sentence.split())))\n",
        "            tf_idf = dictionary[word]*(sentence.count(word)/len(sentence.split())) # getting the tfidf value for each word\n",
        "            vector += (vec * tf_idf) # calculating tfidf weighted w2v\n",
        "            tf_idf_weight += tf_idf\n",
        "    if tf_idf_weight != 0:\n",
        "        vector /= tf_idf_weight\n",
        "    tfidf_w2v_vectors_descr_tr.append(vector)\n",
        "\n",
        "print(len(tfidf_w2v_vectors_descr_tr))\n",
        "print(len(tfidf_w2v_vectors_descr_tr[0]))\n",
        "\n",
        "\n",
        "\n",
        "\n",
        "# average Word2Vec\n",
        "# compute average word2vec for each review.\n",
        "'''tfidf w2vect item_description test'''\n",
        "tfidf_w2v_vectors_descr_te = []; # the avg-w2v for each sentence/review is stored in this list\n",
        "for sentence in tqdm(X_test['title']): # for each review/sentence\n",
        "    vector = np.zeros(300) # as word vectors are of zero length\n",
        "    tf_idf_weight =0; # num of words with a valid vector in the sentence/review\n",
        "    for word in sentence.split(): # for each word in a review/sentence\n",
        "        if (word in glove_words) and (word in tfidf_words):\n",
        "            vec = model_fasttext[word] # getting the vector for each word\n",
        "            # here we are multiplying idf value(dictionary[word]) and the tf value((sentence.count(word)/len(sentence.split())))\n",
        "            tf_idf = dictionary[word]*(sentence.count(word)/len(sentence.split())) # getting the tfidf value for each word\n",
        "            vector += (vec * tf_idf) # calculating tfidf weighted w2v\n",
        "            tf_idf_weight += tf_idf\n",
        "    if tf_idf_weight != 0:\n",
        "        vector /= tf_idf_weight\n",
        "    tfidf_w2v_vectors_descr_te.append(vector)\n",
        "\n",
        "print(len(tfidf_w2v_vectors_descr_te))\n",
        "print(len(tfidf_w2v_vectors_descr_te[0]))\n",
        "\n",
        "\n",
        "\n",
        "\n"
      ],
      "execution_count": null,
      "outputs": [
        {
          "output_type": "stream",
          "text": [
            "100%|██████████| 341188/341188 [00:29<00:00, 11512.96it/s]\n",
            "  1%|          | 1293/168048 [00:00<00:12, 12902.17it/s]"
          ],
          "name": "stderr"
        },
        {
          "output_type": "stream",
          "text": [
            "341188\n",
            "300\n"
          ],
          "name": "stdout"
        },
        {
          "output_type": "stream",
          "text": [
            "100%|██████████| 168048/168048 [00:14<00:00, 11556.04it/s]"
          ],
          "name": "stderr"
        },
        {
          "output_type": "stream",
          "text": [
            "168048\n",
            "300\n"
          ],
          "name": "stdout"
        },
        {
          "output_type": "stream",
          "text": [
            "\n"
          ],
          "name": "stderr"
        }
      ]
    },
    {
      "cell_type": "code",
      "metadata": {
        "id": "pXEK8sLQaYoF"
      },
      "source": [
        ""
      ],
      "execution_count": null,
      "outputs": []
    },
    {
      "cell_type": "code",
      "metadata": {
        "id": "VtFQ3KfBg732"
      },
      "source": [
        "# combine all feature title and author name \n",
        "from scipy.sparse import hstack\n",
        "X_tr = hstack((tfidf_w2v_vectors_descr_tr,X_train_brand)).tocsr()\n",
        "    #X_cr = hstack((tfidf_w2v_vectors_title_cv, X_cv_state_ohe, X_cv_teacher_ohe, X_cv_grade_ohe, X_cv_price_norm,tfidf_w2v_vectors_essay_cv,X_cv_subclean_cate_ohe,X_cv_clean_cate_ohe,X_cv_posted_norm)).tocsr()\n",
        "X_te = hstack((tfidf_w2v_vectors_descr_te,X_test_brand)).tocsr()"
      ],
      "execution_count": null,
      "outputs": []
    },
    {
      "cell_type": "markdown",
      "metadata": {
        "id": "99K0iJS_cO9L"
      },
      "source": [
        "## **conclusion of featurization**\n",
        "- author aname and title are ther most significant features used for prediction\n",
        "- for author name one hot encoding is used\n",
        "- for title tfidf word to vector is used "
      ]
    },
    {
      "cell_type": "code",
      "metadata": {
        "id": "X8cOWDjGhlpx"
      },
      "source": [
        ""
      ],
      "execution_count": null,
      "outputs": []
    },
    {
      "cell_type": "markdown",
      "metadata": {
        "id": "tkGevvj5csps"
      },
      "source": [
        "##**machine learning model**\n",
        "- Xgboost "
      ]
    },
    {
      "cell_type": "code",
      "metadata": {
        "id": "k4YGXuq8ioJ4"
      },
      "source": [
        "from sklearn.metrics import roc_auc_score\n",
        "from sklearn.metrics import accuracy_score\n",
        "from sklearn.ensemble import RandomForestClassifier\n",
        "from sklearn.model_selection import GridSearchCV\n",
        "def gd(X_tr,X_te):\n",
        "\n",
        "  depth = [1,5,10,13,15,17,20]\n",
        "  estimater = [2,4,6,8,10,12,14,16]\n",
        "  tuned_parameters = {'max_depth': depth,'n_estimators':estimater}\n",
        "\n",
        "  rf= RandomForestClassifier(class_weight='balanced')\n",
        "  clf_1 = GridSearchCV(rf, tuned_parameters, cv=3, scoring='roc_auc',verbose=1,n_jobs = -1, return_train_score=True)\n",
        "  clf_1.fit(X_tr, y_train)\n",
        "  train_auc= clf_1.cv_results_['mean_train_score']\n",
        "  cv_auc = clf_1.cv_results_['mean_test_score']\n",
        "  # test AUC\n",
        "  #print(\"L1+++++++++++++++\")\n",
        "  print(clf_1.score(X_te, y_test))\n",
        "  print(clf_1.best_estimator_)# to know best parameters\n",
        "  depth_opt, split_opt = clf_1.best_params_.get('max_depth'), clf_1.best_params_.get('n_estimators')\n",
        "  print(depth_opt)\n",
        "  print(split_opt)\n",
        "  #how to draw heatmap\n",
        "  #https://seaborn.pydata.org/generated/seaborn.heatmap.html\n",
        "  #https://github.com/omkar1610/Amazon-Fine-Food-Reviews/blob/master/08%20Amazon%20Fine%2\n",
        "\n",
        "  df_heatmap = pd. DataFrame(train_auc. reshape(7, 8), index=depth, columns=estimater )\n",
        "  fig = plt. figure(figsize=(5, 3))\n",
        "  heatmap = sns. heatmap(df_heatmap, annot=True)\n",
        "  plt. ylabel('Depth' , size=18)\n",
        "  plt. xlabel('n_estimater' , size=18)\n",
        "  plt. title(\"Train Data\", size=24)\n",
        "  plt. show()\n",
        "  df_heatmap = pd. DataFrame(cv_auc. reshape(7, 8), index=depth, columns=estimater )\n",
        "  fig = plt. figure(figsize=(5, 3))\n",
        "  heatmap = sns. heatmap(df_heatmap, annot=True)\n",
        "  plt. ylabel('Depth' , size=18)\n",
        "  plt. xlabel('n_estimater' , size=18)\n",
        "  plt. title(\"CV Data\", size=24)\n",
        "  plt. show()\n",
        "  print(\"best depth = \", clf_1.best_params_)"
      ],
      "execution_count": null,
      "outputs": []
    },
    {
      "cell_type": "code",
      "metadata": {
        "colab": {
          "base_uri": "https://localhost:8080/",
          "height": 771
        },
        "id": "Chyx6MuxjM9_",
        "outputId": "e538648b-2ccd-4592-85ae-6a7225ee8eb2"
      },
      "source": [
        "gd(X_tr,X_te)"
      ],
      "execution_count": null,
      "outputs": [
        {
          "output_type": "stream",
          "text": [
            "Fitting 3 folds for each of 56 candidates, totalling 168 fits\n"
          ],
          "name": "stdout"
        },
        {
          "output_type": "stream",
          "text": [
            "[Parallel(n_jobs=-1)]: Using backend LokyBackend with 2 concurrent workers.\n",
            "[Parallel(n_jobs=-1)]: Done  46 tasks      | elapsed:  3.4min\n",
            "[Parallel(n_jobs=-1)]: Done 168 out of 168 | elapsed: 23.0min finished\n"
          ],
          "name": "stderr"
        },
        {
          "output_type": "stream",
          "text": [
            "0.666759643884243\n",
            "RandomForestClassifier(bootstrap=True, ccp_alpha=0.0, class_weight='balanced',\n",
            "                       criterion='gini', max_depth=5, max_features='auto',\n",
            "                       max_leaf_nodes=None, max_samples=None,\n",
            "                       min_impurity_decrease=0.0, min_impurity_split=None,\n",
            "                       min_samples_leaf=1, min_samples_split=2,\n",
            "                       min_weight_fraction_leaf=0.0, n_estimators=16,\n",
            "                       n_jobs=None, oob_score=False, random_state=None,\n",
            "                       verbose=0, warm_start=False)\n",
            "5\n",
            "16\n"
          ],
          "name": "stdout"
        },
        {
          "output_type": "display_data",
          "data": {
            "image/png": "[encoded data removed]",
            "text/plain": [
              "<Figure size 360x216 with 2 Axes>"
            ]
          },
          "metadata": {
            "tags": [],
            "needs_background": "light"
          }
        },
        {
          "output_type": "display_data",
          "data": {
            "image/png": "[encoded data removed]",
            "text/plain": [
              "<Figure size 360x216 with 2 Axes>"
            ]
          },
          "metadata": {
            "tags": [],
            "needs_background": "light"
          }
        },
        {
          "output_type": "stream",
          "text": [
            "best depth =  {'max_depth': 5, 'n_estimators': 16}\n"
          ],
          "name": "stdout"
        }
      ]
    },
    {
      "cell_type": "code",
      "metadata": {
        "colab": {
          "base_uri": "https://localhost:8080/"
        },
        "id": "4fCQhOs7jgn-",
        "outputId": "9c1820bc-cae0-4d07-c71a-dd004f34d3e3"
      },
      "source": [
        "rf=RandomForestClassifier(bootstrap=True, ccp_alpha=0.0, class_weight='balanced',\n",
        "                       criterion='gini', max_depth=5, max_features='auto',\n",
        "                       max_leaf_nodes=None, max_samples=None,\n",
        "                       min_impurity_decrease=0.0, min_impurity_split=None,\n",
        "                       min_samples_leaf=1, min_samples_split=2,\n",
        "                       min_weight_fraction_leaf=0.0, n_estimators=16,\n",
        "                       n_jobs=None, oob_score=False, random_state=None,\n",
        "                       verbose=0, warm_start=False)\n",
        "rf.fit(X_tr,y_train)\n",
        "pred = rf.predict(X_te)\n",
        "acc = accuracy_score(y_test, pred, normalize=True)*float(100)\n",
        "\n",
        "print('\\n****Test accuracy is %f%%' % (acc))"
      ],
      "execution_count": null,
      "outputs": [
        {
          "output_type": "stream",
          "text": [
            "\n",
            "****Test accuracy is 82.453228%\n"
          ],
          "name": "stdout"
        }
      ]
    },
    {
      "cell_type": "code",
      "metadata": {
        "colab": {
          "base_uri": "https://localhost:8080/"
        },
        "id": "2IIRchga56QV",
        "outputId": "5c5c2938-ea82-4cc2-c179-af32eeb2b633"
      },
      "source": [
        "#other measuring parameters\n",
        "from sklearn.metrics import classification_report\n",
        "print(\"classification_report\")\n",
        "print(classification_report(y_test, pred))\n"
      ],
      "execution_count": null,
      "outputs": [
        {
          "output_type": "stream",
          "text": [
            "classification_report\n",
            "              precision    recall  f1-score   support\n",
            "\n",
            "           0       1.00      0.82      0.90    167942\n",
            "           1       0.00      0.35      0.00       106\n",
            "\n",
            "    accuracy                           0.82    168048\n",
            "   macro avg       0.50      0.59      0.45    168048\n",
            "weighted avg       1.00      0.82      0.90    168048\n",
            "\n"
          ],
          "name": "stdout"
        }
      ]
    },
    {
      "cell_type": "code",
      "metadata": {
        "colab": {
          "base_uri": "https://localhost:8080/",
          "height": 312
        },
        "id": "KNRDXVPq6LTD",
        "outputId": "1dc1aa0f-b6af-4044-95d4-9abf1ed97654"
      },
      "source": [
        "pred_proba_te=rf.predict_proba(X_te)\n",
        "pred_proba_te = pred_proba_te[:, 1]\n",
        "pred_proba_tr=rf.predict_proba(X_tr)\n",
        "pred_proba_tr = pred_proba_tr[:, 1]\n",
        "\n",
        "\n",
        "fpr, tpr, thresholds = roc_curve(y_test,pred_proba_te )\n",
        "a=fpr\n",
        "b=tpr\n",
        "c=thresholds\n",
        "\n",
        "\n",
        "fpr, tpr, thresholds = roc_curve(y_train,pred_proba_tr )\n",
        "\n",
        "#PLOT OF ROC\n",
        " # plot no skill\n",
        "plt.plot([0, 1], [0, 1])\n",
        " # plot the roc curve for the model\n",
        "plt.plot(fpr, tpr, marker='.',label=\"train\")\n",
        "plt.plot(a,b, marker='.',label='test')\n",
        " #plt.plot(k,pred_cv)\n",
        "plt.title(\"Line Plot of ROC Curve\")\n",
        "plt.ylabel('True Positive Rate')\n",
        "plt.xlabel('False Positive Rate')\n",
        "plt.legend()\n"
      ],
      "execution_count": null,
      "outputs": [
        {
          "output_type": "execute_result",
          "data": {
            "text/plain": [
              "<matplotlib.legend.Legend at 0x7f7ba09db150>"
            ]
          },
          "metadata": {
            "tags": []
          },
          "execution_count": 68
        },
        {
          "output_type": "display_data",
          "data": {
            "image/png": "[encoded data removed]",
            "text/plain": [
              "<Figure size 432x288 with 1 Axes>"
            ]
          },
          "metadata": {
            "tags": [],
            "needs_background": "light"
          }
        }
      ]
    },
    {
      "cell_type": "code",
      "metadata": {
        "colab": {
          "base_uri": "https://localhost:8080/",
          "height": 111
        },
        "id": "bPCMQyIU6lt4",
        "outputId": "e33def25-70e8-459f-dc31-dd7ab04e6c93"
      },
      "source": [
        "#confusion matrices\n",
        "#https://pandas-ml.readthedocs.io/en/latest/conf_mat.html\n",
        "con_matrix=confusion_matrix(y_test, pred)\n",
        "class_label=['negatve','positive']\n",
        "df=pd.DataFrame(con_matrix,index=class_label,columns=class_label)\n",
        "df"
      ],
      "execution_count": null,
      "outputs": [
        {
          "output_type": "execute_result",
          "data": {
            "text/html": [
              "<div>\n",
              "<style scoped>\n",
              "    .dataframe tbody tr th:only-of-type {\n",
              "        vertical-align: middle;\n",
              "    }\n",
              "\n",
              "    .dataframe tbody tr th {\n",
              "        vertical-align: top;\n",
              "    }\n",
              "\n",
              "    .dataframe thead th {\n",
              "        text-align: right;\n",
              "    }\n",
              "</style>\n",
              "<table border=\"1\" class=\"dataframe\">\n",
              "  <thead>\n",
              "    <tr style=\"text-align: right;\">\n",
              "      <th></th>\n",
              "      <th>negatve</th>\n",
              "      <th>positive</th>\n",
              "    </tr>\n",
              "  </thead>\n",
              "  <tbody>\n",
              "    <tr>\n",
              "      <th>negatve</th>\n",
              "      <td>138524</td>\n",
              "      <td>29418</td>\n",
              "    </tr>\n",
              "    <tr>\n",
              "      <th>positive</th>\n",
              "      <td>69</td>\n",
              "      <td>37</td>\n",
              "    </tr>\n",
              "  </tbody>\n",
              "</table>\n",
              "</div>"
            ],
            "text/plain": [
              "          negatve  positive\n",
              "negatve    138524     29418\n",
              "positive       69        37"
            ]
          },
          "metadata": {
            "tags": []
          },
          "execution_count": 69
        }
      ]
    },
    {
      "cell_type": "code",
      "metadata": {
        "id": "jSphfPls6vay"
      },
      "source": [
        ""
      ],
      "execution_count": null,
      "outputs": []
    },
    {
      "cell_type": "code",
      "metadata": {
        "id": "xC-cY5kaQ8Ee"
      },
      "source": [
        ""
      ],
      "execution_count": null,
      "outputs": []
    },
    {
      "cell_type": "markdown",
      "metadata": {
        "id": "pdogaVjpQ8iD"
      },
      "source": [
        "##**Final Observation**\n",
        "- consider the target value over_18 or not\n",
        "- model work correct for negative class\n",
        "- need to do some thing special to manage positive class\n",
        "- data set is imbalance\n",
        "\n"
      ]
    },
    {
      "cell_type": "code",
      "metadata": {
        "id": "aSQbNTtT67ml"
      },
      "source": [
        ""
      ],
      "execution_count": null,
      "outputs": []
    }
  ]
}